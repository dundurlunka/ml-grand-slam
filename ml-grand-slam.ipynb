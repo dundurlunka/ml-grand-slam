{
  "nbformat": 4,
  "nbformat_minor": 0,
  "metadata": {
    "colab": {
      "provenance": [],
      "authorship_tag": "ABX9TyNrIWg5oJ5rlrrUc+R2zyIM",
      "include_colab_link": true
    },
    "kernelspec": {
      "name": "python3",
      "display_name": "Python 3"
    },
    "language_info": {
      "name": "python"
    }
  },
  "cells": [
    {
      "cell_type": "markdown",
      "metadata": {
        "id": "view-in-github",
        "colab_type": "text"
      },
      "source": [
        "<a href=\"https://colab.research.google.com/github/dundurlunka/ml-grand-slam/blob/main/ml-grand-slam.ipynb\" target=\"_parent\"><img src=\"https://colab.research.google.com/assets/colab-badge.svg\" alt=\"Open In Colab\"/></a>"
      ]
    },
    {
      "cell_type": "markdown",
      "source": [
        "Read data from github"
      ],
      "metadata": {
        "id": "XgjUfQsNeGkE"
      }
    },
    {
      "cell_type": "code",
      "execution_count": 10,
      "metadata": {
        "id": "JkSD4RuAcINA",
        "colab": {
          "base_uri": "https://localhost:8080/"
        },
        "outputId": "3f3cdb12-9ac6-43e1-bb44-d32fd2364763"
      },
      "outputs": [
        {
          "output_type": "stream",
          "name": "stderr",
          "text": [
            "/usr/local/lib/python3.8/dist-packages/IPython/core/interactiveshell.py:3326: FutureWarning: The error_bad_lines argument has been deprecated and will be removed in a future version.\n",
            "\n",
            "\n",
            "  exec(code_obj, self.user_global_ns, self.user_ns)\n",
            "Skipping line 587: unexpected end of data\n"
          ]
        }
      ],
      "source": [
        "import pandas as pd\n",
        "\n",
        "import sys\n",
        "import csv\n",
        "\n",
        "csv.field_size_limit(sys.maxsize)\n",
        "\n",
        "points = pd.read_csv('https://raw.githubusercontent.com/JeffSackmann/tennis_MatchChartingProject/master/charting-m-points-from-2017.csv', encoding_errors='ignore')\n",
        "matches = pd.read_csv('https://raw.githubusercontent.com/JeffSackmann/tennis_MatchChartingProject/master/charting-m-matches.csv', encoding_errors='ignore', engine='python', error_bad_lines=False)"
      ]
    },
    {
      "cell_type": "markdown",
      "source": [
        "Merge the two datasets together by match_id"
      ],
      "metadata": {
        "id": "Msjc4p4ytVEe"
      }
    },
    {
      "cell_type": "code",
      "source": [
        "data = pd.merge(\n",
        "    matches,\n",
        "    points,\n",
        "    how=\"inner\",\n",
        "    on='match_id',\n",
        ")\n",
        "\n",
        "print(data.head())"
      ],
      "metadata": {
        "colab": {
          "base_uri": "https://localhost:8080/"
        },
        "id": "iRB9oJoOjR2r",
        "outputId": "114607f3-eb21-49ea-dd95-cdaa1c12a7c4"
      },
      "execution_count": 49,
      "outputs": [
        {
          "output_type": "stream",
          "name": "stdout",
          "text": [
            "                                            match_id     Player 1  \\\n",
            "0  20221123-M-Davis_Cup_Finals-QF-Marin_Cilic-Pab...  Marin Cilic   \n",
            "1  20221123-M-Davis_Cup_Finals-QF-Marin_Cilic-Pab...  Marin Cilic   \n",
            "2  20221123-M-Davis_Cup_Finals-QF-Marin_Cilic-Pab...  Marin Cilic   \n",
            "3  20221123-M-Davis_Cup_Finals-QF-Marin_Cilic-Pab...  Marin Cilic   \n",
            "4  20221123-M-Davis_Cup_Finals-QF-Marin_Cilic-Pab...  Marin Cilic   \n",
            "\n",
            "              Player 2 Pl 1 hand Pl 2 hand Gender      Date        Tournament  \\\n",
            "0  Pablo Carreno Busta         R         R      M  20221123  Davis Cup Finals   \n",
            "1  Pablo Carreno Busta         R         R      M  20221123  Davis Cup Finals   \n",
            "2  Pablo Carreno Busta         R         R      M  20221123  Davis Cup Finals   \n",
            "3  Pablo Carreno Busta         R         R      M  20221123  Davis Cup Finals   \n",
            "4  Pablo Carreno Busta         R         R      M  20221123  Davis Cup Finals   \n",
            "\n",
            "  Round   Time  ... 2ndIn  isAce isUnret  isRallyWinner isForced isUnforced  \\\n",
            "0    QF  18:35  ...   0.0  False   False          False    False      False   \n",
            "1    QF  18:35  ...   NaN  False    True          False    False      False   \n",
            "2    QF  18:35  ...   1.0  False   False          False     True      False   \n",
            "3    QF  18:35  ...   NaN  False   False          False     True      False   \n",
            "4    QF  18:35  ...   NaN  False    True          False    False      False   \n",
            "\n",
            "   isDouble  PtWinner  isSvrWinner  rallyCount  \n",
            "0      True         2            0           0  \n",
            "1     False         1            1           1  \n",
            "2     False         2            0           2  \n",
            "3     False         1            1           1  \n",
            "4     False         1            1           1  \n",
            "\n",
            "[5 rows x 45 columns]\n"
          ]
        }
      ]
    },
    {
      "cell_type": "markdown",
      "source": [
        "Select relevant columns from dataframe\n"
      ],
      "metadata": {
        "id": "xULtXI_Ttc-p"
      }
    },
    {
      "cell_type": "code",
      "source": [
        "data.columns = data.columns.to_series().apply(lambda x: x.strip())\n",
        "data = data.loc[:, ['Player 1', 'Player 2', 'Pl 1 hand', 'Pl 2 hand', 'Tournament', 'Surface', 'Set1','Set2', 'Gm1', 'Gm2', 'Pts', 'Svr', '1st', '2nd', 'isAce', 'isUnret']]"
      ],
      "metadata": {
        "id": "sN8PyS4kgm14"
      },
      "execution_count": 50,
      "outputs": []
    },
    {
      "cell_type": "code",
      "source": [
        "data['isAce'] = data['isAce'] | data['isUnret']\n",
        "data = data.drop('isUnret', axis='columns')\n",
        "print(data)"
      ],
      "metadata": {
        "colab": {
          "base_uri": "https://localhost:8080/"
        },
        "id": "aA_sj7nZtokO",
        "outputId": "c12c3dc2-df40-4487-c699-f5aef71fe372"
      },
      "execution_count": 52,
      "outputs": [
        {
          "output_type": "stream",
          "name": "stdout",
          "text": [
            "             Player 1             Player 2 Pl 1 hand Pl 2 hand  \\\n",
            "0         Marin Cilic  Pablo Carreno Busta         R         R   \n",
            "1         Marin Cilic  Pablo Carreno Busta         R         R   \n",
            "2         Marin Cilic  Pablo Carreno Busta         R         R   \n",
            "3         Marin Cilic  Pablo Carreno Busta         R         R   \n",
            "4         Marin Cilic  Pablo Carreno Busta         R         R   \n",
            "...               ...                  ...       ...       ...   \n",
            "97049  Novak Djokovic        Kei Nishikori         R         R   \n",
            "97050  Novak Djokovic        Kei Nishikori         R         R   \n",
            "97051  Novak Djokovic        Kei Nishikori         R         R   \n",
            "97052  Novak Djokovic        Kei Nishikori         R         R   \n",
            "97053  Novak Djokovic        Kei Nishikori         R         R   \n",
            "\n",
            "             Tournament Surface  Set1  Set2  Gm1  Gm2    Pts  Svr  \\\n",
            "0      Davis Cup Finals    Hard     0     0    0    0    0-0    1   \n",
            "1      Davis Cup Finals    Hard     0     0    0    0   0-15    1   \n",
            "2      Davis Cup Finals    Hard     0     0    0    0  15-15    1   \n",
            "3      Davis Cup Finals    Hard     0     0    0    0  15-30    1   \n",
            "4      Davis Cup Finals    Hard     0     0    0    0  30-30    1   \n",
            "...                 ...     ...   ...   ...  ...  ...    ...  ...   \n",
            "97049          Olympics    Hard     1     0    5    0  15-30    2   \n",
            "97050          Olympics    Hard     1     0    5    0  15-40    2   \n",
            "97051          Olympics    Hard     1     0    5    0  30-40    2   \n",
            "97052          Olympics    Hard     1     0    5    0  40-40    2   \n",
            "97053          Olympics    Hard     1     0    5    0  40-AD    2   \n",
            "\n",
            "                   1st                    2nd  isAce    new  \n",
            "0                   4d                     5n  False  False  \n",
            "1                   4#                    NaN   True   True  \n",
            "2                   4n               5f29f3n#  False  False  \n",
            "3                6f3x#                    NaN  False  False  \n",
            "4                   4#                    NaN   True   True  \n",
            "...                ...                    ...    ...    ...  \n",
            "97049               4w  5b38b39b18f19f29b38w@  False  False  \n",
            "97050            6b2d#                    NaN  False  False  \n",
            "97051               4n        5b29f38b27f+18*  False  False  \n",
            "97052  4f29b+39b3z38w#                    NaN  False  False  \n",
            "97053               4n                  4b38*  False  False  \n",
            "\n",
            "[97054 rows x 16 columns]\n"
          ]
        }
      ]
    }
  ]
}