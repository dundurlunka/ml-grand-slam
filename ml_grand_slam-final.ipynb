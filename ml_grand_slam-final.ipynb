{
  "cells": [
    {
      "cell_type": "markdown",
      "metadata": {
        "colab_type": "text",
        "id": "view-in-github"
      },
      "source": [
        "<a href=\"https://colab.research.google.com/github/dundurlunka/ml-grand-slam/blob/main/ml_grand_slam-final.ipynb\" target=\"_parent\"><img src=\"https://colab.research.google.com/assets/colab-badge.svg\" alt=\"Open In Colab\"/></a>"
      ]
    },
    {
      "cell_type": "markdown",
      "metadata": {
        "id": "XgjUfQsNeGkE"
      },
      "source": [
        "Read data from github"
      ]
    },
    {
      "cell_type": "code",
      "execution_count": 71,
      "metadata": {
        "id": "JkSD4RuAcINA"
      },
      "outputs": [],
      "source": [
        "import pandas as pd\n",
        "import numpy as np\n",
        "\n",
        "import sys\n",
        "import csv"
      ]
    },
    {
      "cell_type": "code",
      "execution_count": 72,
      "metadata": {
        "id": "00M5szWYe9af"
      },
      "outputs": [
        {
          "name": "stderr",
          "output_type": "stream",
          "text": [
            "C:\\Users\\daniel.georgiev\\AppData\\Local\\Temp\\ipykernel_39268\\3448231166.py:1: DtypeWarning: Columns (8,9,29) have mixed types. Specify dtype option on import or set low_memory=False.\n",
            "  points = pd.read_csv('./data/charting-m-points-from-2017.csv', quoting=csv.QUOTE_NONE, encoding = 'ISO-8859-1')\n"
          ]
        }
      ],
      "source": [
        "points = pd.read_csv('./data/charting-m-points-from-2017.csv', quoting=csv.QUOTE_NONE, encoding = 'ISO-8859-1')\n",
        "matches = pd.read_csv('./data/charting-m-matches.csv', quoting=csv.QUOTE_NONE, encoding = 'ISO-8859-1')"
      ]
    },
    {
      "cell_type": "markdown",
      "metadata": {
        "id": "Msjc4p4ytVEe"
      },
      "source": [
        "Merge the two datasets together by match_id"
      ]
    },
    {
      "cell_type": "code",
      "execution_count": 73,
      "metadata": {
        "id": "iRB9oJoOjR2r"
      },
      "outputs": [],
      "source": [
        "joinedData = pd.merge(\n",
        "    matches,\n",
        "    points,\n",
        "    how=\"inner\",\n",
        "    on='match_id',\n",
        ")"
      ]
    },
    {
      "cell_type": "code",
      "execution_count": 74,
      "metadata": {
        "id": "L01sg2qYwO4W"
      },
      "outputs": [],
      "source": [
        "df_obj = joinedData.select_dtypes(['object'])\n",
        "joinedData[df_obj.columns] = df_obj.apply(lambda x: x.str.strip())"
      ]
    },
    {
      "cell_type": "markdown",
      "metadata": {
        "id": "xULtXI_Ttc-p"
      },
      "source": [
        "Select relevant columns from dataframe\n"
      ]
    },
    {
      "cell_type": "code",
      "execution_count": 75,
      "metadata": {
        "id": "sN8PyS4kgm14"
      },
      "outputs": [],
      "source": [
        "joinedData.columns = joinedData.columns.to_series().apply(lambda x: x.strip())\n",
        "joinedData = joinedData.loc[:, ['Player 1', 'Player 2', 'Pl 1 hand', 'Pl 2 hand', 'Surface', 'Set1','Set2', 'Gm1', 'Gm2', 'Pts', 'Serving', '1st', '2nd', 'isAce', 'isUnret']]"
      ]
    },
    {
      "cell_type": "code",
      "execution_count": 76,
      "metadata": {
        "id": "aA_sj7nZtokO"
      },
      "outputs": [],
      "source": [
        "joinedData['isAce'] = joinedData['isAce'] | joinedData['isUnret']\n",
        "joinedData = joinedData.drop(columns=['isUnret', 'isAce'])"
      ]
    },
    {
      "cell_type": "code",
      "execution_count": 77,
      "metadata": {
        "id": "eq79PtXOSp3g"
      },
      "outputs": [],
      "source": [
        "tennis_players = ['Daniil Medvedev', 'Alexander Zverev', 'Roger Federer', 'Dominic Thiem', 'Nick Kyrgios', 'Novak Djokovic', 'Rafael Nadal', 'Stefanos Tsitsipas', 'Casper Ruud', 'Grigor Dimitrov']\n",
        "tennis_players_initials = [''.join([x[0].upper() for x in fullname.split(' ')]) for fullname in tennis_players]\n",
        "joinedData = joinedData.loc[((joinedData['Player 1'].isin(tennis_players)) | (joinedData['Player 2'].isin(tennis_players)))]\n",
        "joinedData = joinedData.loc[joinedData['Serving'].isin(tennis_players_initials)]"
      ]
    },
    {
      "cell_type": "code",
      "execution_count": 78,
      "metadata": {
        "id": "MilCADR0ZmvI"
      },
      "outputs": [],
      "source": [
        "joinedData[['Pts1', 'Pts2']] = joinedData['Pts'].str.split('-', expand=True)\n",
        "joinedData = joinedData.drop('Pts', axis='columns')"
      ]
    },
    {
      "cell_type": "markdown",
      "metadata": {
        "id": "efAg6B-yhpeh"
      },
      "source": [
        "Separate the columns into new columns that are specific for Server and Returner."
      ]
    },
    {
      "cell_type": "code",
      "execution_count": 79,
      "metadata": {
        "id": "VvCVdtA5dK09"
      },
      "outputs": [],
      "source": [
        "server_names = []\n",
        "returner_names = []\n",
        "pointsServer = []\n",
        "pointsReturner = []\n",
        "gamesServer = []\n",
        "gamesReturner = []\n",
        "setsServer = []\n",
        "setsReturner = []\n",
        "handReturner = []\n",
        "for index, row in joinedData.iterrows():\n",
        "    if ''.join([x[0].upper() for x in row['Player 1'].split(' ')]) == row['Serving']:\n",
        "      server_names.append(row['Player 1'])\n",
        "      returner_names.append(row['Player 2'])\n",
        "      pointsServer.append(row['Pts1'])\n",
        "      pointsReturner.append(row['Pts2'])\n",
        "      gamesServer.append(row['Gm1'])\n",
        "      gamesReturner.append(row['Gm2'])\n",
        "      setsServer.append(row['Set1'])\n",
        "      setsReturner.append(row['Set2'])\n",
        "      handReturner.append(row['Pl 2 hand'])\n",
        "    elif ''.join([x[0].upper() for x in row['Player 2'].split(' ')]) == row['Serving']:\n",
        "      server_names.append(row['Player 2'])\n",
        "      returner_names.append(row['Player 1'])\n",
        "      pointsServer.append(row['Pts2'])\n",
        "      pointsReturner.append(row['Pts1'])\n",
        "      gamesServer.append(row['Gm2'])\n",
        "      gamesReturner.append(row['Gm1'])\n",
        "      setsServer.append(row['Set2'])\n",
        "      setsReturner.append(row['Set1'])\n",
        "      handReturner.append(row['Pl 1 hand'])\n",
        "\n",
        "joinedData['FullNameServer'] = server_names\n",
        "joinedData['FullNameReturner'] = returner_names\n",
        "joinedData['PointsServer'] = pointsServer\n",
        "joinedData['PointsReturner'] = pointsReturner\n",
        "joinedData['GamesServer'] = gamesServer\n",
        "joinedData['GamesReturner'] = gamesReturner\n",
        "joinedData['SetsServer'] = setsServer\n",
        "joinedData['SetsReturner'] = setsReturner\n",
        "joinedData['HandReturner'] = handReturner\n",
        "\n",
        "joinedData = joinedData.drop(columns=['Player 1', 'Player 2', 'Pts1', 'Pts2', 'Gm1', 'Gm2', 'Set1', 'Set2', 'Pl 1 hand', 'Pl 2 hand', 'Serving', 'FullNameReturner'])"
      ]
    },
    {
      "cell_type": "markdown",
      "metadata": {
        "id": "uhLWe-BTiRtW"
      },
      "source": [
        "Combine the serves into one column with a list of 1 or 2 serves so that it can be exploded into several rows later"
      ]
    },
    {
      "cell_type": "code",
      "execution_count": 80,
      "metadata": {
        "id": "uDUEZvkUv6xV"
      },
      "outputs": [],
      "source": [
        "joinedData['Serves'] = joinedData.apply(lambda x: list(['f' + str(x['1st']),\n",
        "                                                        's' + str(x['2nd'])]), axis=1)   "
      ]
    },
    {
      "cell_type": "markdown",
      "metadata": {
        "id": "513WgAufXHm3"
      },
      "source": [
        "Explode list of first and second serve into separate rows"
      ]
    },
    {
      "cell_type": "code",
      "execution_count": 81,
      "metadata": {
        "id": "m868wutCXU9e"
      },
      "outputs": [],
      "source": [
        "joinedData = joinedData.explode('Serves')"
      ]
    },
    {
      "cell_type": "markdown",
      "metadata": {
        "id": "mqiN00YKYBW-"
      },
      "source": [
        "Add new column indicating whether the serve was first or second"
      ]
    },
    {
      "cell_type": "code",
      "execution_count": 82,
      "metadata": {
        "id": "7mJfOkIFYHtu"
      },
      "outputs": [],
      "source": [
        "joinedData['IsFirstServe'] = joinedData['Serves'].str[0] == 'f'"
      ]
    },
    {
      "cell_type": "markdown",
      "metadata": {
        "id": "on6335xYYh3J"
      },
      "source": [
        "Remove 'f' and 's' (first and second serve) that were indicators before the explosion"
      ]
    },
    {
      "cell_type": "code",
      "execution_count": 83,
      "metadata": {
        "id": "ihQjtZbiYn50"
      },
      "outputs": [],
      "source": [
        "joinedData['Serves'] = joinedData['Serves'].str[1:]\n",
        "joinedData = joinedData[(joinedData['Serves'] != 'nan') & (joinedData['Serves'] != '')]\n",
        "joinedData = joinedData.drop(columns=['1st', '2nd'])"
      ]
    },
    {
      "cell_type": "markdown",
      "metadata": {
        "id": "qIGcmgBEcSHn"
      },
      "source": [
        "Remove lets"
      ]
    },
    {
      "cell_type": "code",
      "execution_count": 84,
      "metadata": {
        "id": "jwYcK8R3cS_d"
      },
      "outputs": [],
      "source": [
        "joinedData['Serves'] = joinedData['Serves'].map(lambda x: x.lstrip('c'))"
      ]
    },
    {
      "cell_type": "code",
      "execution_count": 85,
      "metadata": {
        "id": "kGBaCH1eahcp"
      },
      "outputs": [
        {
          "data": {
            "text/plain": [
              "FullNameServer\n",
              "Roger Federer         12724\n",
              "Novak Djokovic        12549\n",
              "Daniil Medvedev       12427\n",
              "Stefanos Tsitsipas    10837\n",
              "Rafael Nadal          10717\n",
              "Dominic Thiem         10051\n",
              "Alexander Zverev       8100\n",
              "Nick Kyrgios           7470\n",
              "Casper Ruud            5300\n",
              "Grigor Dimitrov        5101\n",
              "Name: count, dtype: int64"
            ]
          },
          "execution_count": 85,
          "metadata": {},
          "output_type": "execute_result"
        }
      ],
      "source": [
        "joinedData['FullNameServer'].value_counts()"
      ]
    },
    {
      "cell_type": "markdown",
      "metadata": {
        "id": "85EE5FTadWT9"
      },
      "source": [
        "Extract direction of serve"
      ]
    },
    {
      "cell_type": "code",
      "execution_count": 86,
      "metadata": {
        "id": "_P9fmn4pdYS9"
      },
      "outputs": [],
      "source": [
        "def extract_serve_direction(row):\n",
        "  serves_directions_dict = {\n",
        "      '4': 'Out wide',\n",
        "      '5': 'Body',\n",
        "      '6': 'Down the T'\n",
        "  }\n",
        "\n",
        "  if len(row['Serves']) > 1 and row['Serves'][1] in ['x', 'd', 'w', 'n', 'g', '!', 'e']:\n",
        "      return \"Fault\"\n",
        "  else:\n",
        "      return serves_directions_dict.get(row['Serves'][0], 'Body')\n",
        "\n",
        "joinedData['Direction'] = joinedData.apply(extract_serve_direction, axis=1)\n",
        "joinedData = joinedData.drop(columns='Serves')"
      ]
    },
    {
      "cell_type": "markdown",
      "metadata": {},
      "source": [
        "### Remove Faults"
      ]
    },
    {
      "cell_type": "code",
      "execution_count": 87,
      "metadata": {},
      "outputs": [],
      "source": [
        "joinedData = joinedData[joinedData['Direction'] != 'Fault']"
      ]
    },
    {
      "cell_type": "code",
      "execution_count": 88,
      "metadata": {
        "id": "J5NmZELyEG5J"
      },
      "outputs": [],
      "source": [
        "joinedData.to_csv('data/wrangled-data.csv')"
      ]
    },
    {
      "cell_type": "markdown",
      "metadata": {
        "id": "q0o1Q_Ezj6eU"
      },
      "source": [
        "# Start of machine learning"
      ]
    },
    {
      "cell_type": "markdown",
      "metadata": {
        "id": "5aTS0JBc56jZ"
      },
      "source": [
        "### Data exploration"
      ]
    },
    {
      "cell_type": "code",
      "execution_count": 89,
      "metadata": {
        "id": "FLNBo3B52ScE"
      },
      "outputs": [],
      "source": [
        "import seaborn as sns\n",
        "import matplotlib\n",
        "import matplotlib.pyplot as plt\n",
        "from sklearn.neighbors import KNeighborsClassifier\n",
        "from sklearn.model_selection import train_test_split"
      ]
    },
    {
      "cell_type": "code",
      "execution_count": 90,
      "metadata": {
        "id": "NaRmM_57IILa"
      },
      "outputs": [],
      "source": [
        "joinedData = pd.read_csv('./data/wrangled-data.csv')\n",
        "joinedData = joinedData.drop(columns=['Unnamed: 0'])"
      ]
    },
    {
      "cell_type": "code",
      "execution_count": 91,
      "metadata": {
        "colab": {
          "base_uri": "https://localhost:8080/",
          "height": 280
        },
        "id": "LaW9CJ9zj_O2",
        "outputId": "67652fef-1db9-4901-a891-7319c2939af3"
      },
      "outputs": [
        {
          "data": {
            "text/plain": [
              "<Axes: xlabel='Direction'>"
            ]
          },
          "execution_count": 91,
          "metadata": {},
          "output_type": "execute_result"
        },
        {
          "data": {
            "image/png": "[encoded data removed]",
            "text/plain": [
              "<Figure size 640x480 with 1 Axes>"
            ]
          },
          "metadata": {},
          "output_type": "display_data"
        }
      ],
      "source": [
        "joinedData['Direction'].value_counts().plot(kind='bar')"
      ]
    },
    {
      "cell_type": "code",
      "execution_count": 92,
      "metadata": {
        "colab": {
          "base_uri": "https://localhost:8080/",
          "height": 297
        },
        "id": "JJwm0_pl2QBr",
        "outputId": "93605187-2dcc-4c5e-c246-f6899b825604"
      },
      "outputs": [
        {
          "data": {
            "text/plain": [
              "<Axes: xlabel='Direction', ylabel='count'>"
            ]
          },
          "execution_count": 92,
          "metadata": {},
          "output_type": "execute_result"
        },
        {
          "data": {
            "image/png": "[encoded data removed]",
            "text/plain": [
              "<Figure size 640x480 with 1 Axes>"
            ]
          },
          "metadata": {},
          "output_type": "display_data"
        }
      ],
      "source": [
        "sns.countplot(\n",
        "    x = 'Direction',\n",
        "    hue = 'IsFirstServe',\n",
        "    data = joinedData,\n",
        ")"
      ]
    },
    {
      "cell_type": "markdown",
      "metadata": {
        "id": "uxEpkcxm59kk"
      },
      "source": [
        "## Pre-processing"
      ]
    },
    {
      "cell_type": "code",
      "execution_count": 93,
      "metadata": {
        "id": "wkyJ5pn89c2A"
      },
      "outputs": [],
      "source": [
        "X = joinedData.drop(columns=['Direction'])\n",
        "y = joinedData['Direction']"
      ]
    },
    {
      "cell_type": "markdown",
      "metadata": {
        "id": "1Pgr1Sq99DV1"
      },
      "source": [
        "### One hot encoding attributes"
      ]
    },
    {
      "cell_type": "code",
      "execution_count": 94,
      "metadata": {
        "id": "hwEpcfKU6BS8"
      },
      "outputs": [],
      "source": [
        "from sklearn.compose import ColumnTransformer\n",
        "from sklearn.preprocessing import OneHotEncoder\n",
        "from sklearn.compose import make_column_transformer\n",
        "\n",
        "categorical_columns = ['Surface', 'FullNameServer', 'PointsServer', 'PointsReturner', 'HandReturner']\n",
        "\n",
        "encoded_X = pd.get_dummies(X, columns=categorical_columns)"
      ]
    },
    {
      "cell_type": "code",
      "execution_count": 95,
      "metadata": {
        "id": "Cfw4mB9HH8ap"
      },
      "outputs": [],
      "source": [
        "encoded_X.to_csv('./data/encoded_attributes.csv')"
      ]
    },
    {
      "cell_type": "markdown",
      "metadata": {
        "id": "Zf39MHbY_Dt0"
      },
      "source": [
        "### Label encoding the label"
      ]
    },
    {
      "cell_type": "code",
      "execution_count": 96,
      "metadata": {
        "id": "Dp-WHLlI_JcZ"
      },
      "outputs": [],
      "source": [
        "from sklearn.preprocessing import LabelEncoder\n",
        "le = LabelEncoder()\n",
        "encoded_y = le.fit_transform(y)"
      ]
    },
    {
      "cell_type": "markdown",
      "metadata": {
        "id": "abtckCW5Y-QM"
      },
      "source": [
        "Това го използвахме, когато се опитвахме да предсказваме повече от 2 класа. Тук всъщност правим енкодинг на посоката на сервиса."
      ]
    },
    {
      "cell_type": "markdown",
      "metadata": {
        "id": "uh7RwfP_K5ZG"
      },
      "source": [
        "### Splitting into train test"
      ]
    },
    {
      "cell_type": "code",
      "execution_count": 97,
      "metadata": {
        "id": "aOGSzJKJ1x1_"
      },
      "outputs": [],
      "source": [
        "X_train, X_test, y_train, y_test = train_test_split(encoded_X, encoded_y)"
      ]
    },
    {
      "cell_type": "markdown",
      "metadata": {
        "id": "xPgcXtuWHkuC"
      },
      "source": [
        "## KNN"
      ]
    },
    {
      "cell_type": "code",
      "execution_count": 98,
      "metadata": {
        "id": "HR5fd70tHnsz"
      },
      "outputs": [],
      "source": [
        "def plot_knn_scores(ks):\n",
        "    train_scores = []\n",
        "    test_scores = []\n",
        "    \n",
        "    for k in ks:\n",
        "        clf = KNeighborsClassifier(n_neighbors=k).fit(X_train, y_train)\n",
        "\n",
        "        print('finding scores for ' + str(k) + ' k nearest neighbours')\n",
        "\n",
        "        train_score = clf.score(X_train, y_train)\n",
        "        test_score = clf.score(X_test, y_test)              \n",
        "\n",
        "        print('found scores for ' + str(k) + ' k nearest neighbours\\n' + f'train_score: {train_score}\\n' + f'test_score: {test_score}')\n",
        "\n",
        "        train_scores.append(train_score)\n",
        "        test_scores.append(test_score)\n",
        "\n",
        "    plt.figure(figsize=(10, 6))\n",
        "    plt.plot(ks, train_scores, color='blue', label='train score')\n",
        "    plt.plot(ks, test_scores, color='green', label='test score')\n",
        "    plt.legend()"
      ]
    },
    {
      "cell_type": "code",
      "execution_count": 99,
      "metadata": {
        "colab": {
          "base_uri": "https://localhost:8080/"
        },
        "id": "SWatHJCQJMRR",
        "outputId": "9a1fbd12-bf31-4eed-f76b-2ac334bc1af6"
      },
      "outputs": [
        {
          "name": "stdout",
          "output_type": "stream",
          "text": [
            "finding scores for 1 k nearest neighbours\n"
          ]
        },
        {
          "name": "stdout",
          "output_type": "stream",
          "text": [
            "found scores for 1 k nearest neighbours\n",
            "train_score: 0.8415345149253731\n",
            "test_score: 0.41701160146913074\n",
            "finding scores for 3 k nearest neighbours\n",
            "found scores for 3 k nearest neighbours\n",
            "train_score: 0.6722636815920398\n",
            "test_score: 0.40616801725645657\n",
            "finding scores for 5 k nearest neighbours\n",
            "found scores for 5 k nearest neighbours\n",
            "train_score: 0.6269822761194029\n",
            "test_score: 0.42808838104121727\n",
            "finding scores for 7 k nearest neighbours\n",
            "found scores for 7 k nearest neighbours\n",
            "train_score: 0.6020094838308457\n",
            "test_score: 0.44108902232845565\n",
            "finding scores for 9 k nearest neighbours\n",
            "found scores for 9 k nearest neighbours\n",
            "train_score: 0.583858053482587\n",
            "test_score: 0.44382906780155074\n",
            "finding scores for 11 k nearest neighbours\n",
            "found scores for 11 k nearest neighbours\n",
            "train_score: 0.5688160758706468\n",
            "test_score: 0.4503585378650965\n",
            "finding scores for 13 k nearest neighbours\n",
            "found scores for 13 k nearest neighbours\n",
            "train_score: 0.5613339552238806\n",
            "test_score: 0.4461610213956742\n"
          ]
        },
        {
          "data": {
            "image/png": "[encoded data removed]",
            "text/plain": [
              "<Figure size 1000x600 with 1 Axes>"
            ]
          },
          "metadata": {},
          "output_type": "display_data"
        }
      ],
      "source": [
        "plot_knn_scores(range(1, 15, 2))"
      ]
    },
    {
      "cell_type": "markdown",
      "metadata": {
        "id": "HjOMWTlqJ_x2"
      },
      "source": [
        "## Logistic regression"
      ]
    },
    {
      "cell_type": "code",
      "execution_count": 100,
      "metadata": {
        "id": "lT0LjYWZrSEi"
      },
      "outputs": [
        {
          "name": "stderr",
          "output_type": "stream",
          "text": [
            "c:\\ProgramData\\anaconda3\\envs\\tennis-ai\\Lib\\site-packages\\sklearn\\model_selection\\_validation.py:425: FitFailedWarning: \n",
            "240 fits failed out of a total of 720.\n",
            "The score on these train-test partitions for these parameters will be set to nan.\n",
            "If these failures are not expected, you can try to debug them by setting error_score='raise'.\n",
            "\n",
            "Below are more details about the failures:\n",
            "--------------------------------------------------------------------------------\n",
            "240 fits failed with the following error:\n",
            "Traceback (most recent call last):\n",
            "  File \"c:\\ProgramData\\anaconda3\\envs\\tennis-ai\\Lib\\site-packages\\sklearn\\model_selection\\_validation.py\", line 729, in _fit_and_score\n",
            "    estimator.fit(X_train, y_train, **fit_params)\n",
            "  File \"c:\\ProgramData\\anaconda3\\envs\\tennis-ai\\Lib\\site-packages\\sklearn\\base.py\", line 1152, in wrapper\n",
            "    return fit_method(estimator, *args, **kwargs)\n",
            "           ^^^^^^^^^^^^^^^^^^^^^^^^^^^^^^^^^^^^^^\n",
            "  File \"c:\\ProgramData\\anaconda3\\envs\\tennis-ai\\Lib\\site-packages\\sklearn\\linear_model\\_logistic.py\", line 1169, in fit\n",
            "    solver = _check_solver(self.solver, self.penalty, self.dual)\n",
            "             ^^^^^^^^^^^^^^^^^^^^^^^^^^^^^^^^^^^^^^^^^^^^^^^^^^^\n",
            "  File \"c:\\ProgramData\\anaconda3\\envs\\tennis-ai\\Lib\\site-packages\\sklearn\\linear_model\\_logistic.py\", line 56, in _check_solver\n",
            "    raise ValueError(\n",
            "ValueError: Solver lbfgs supports only 'l2' or 'none' penalties, got l1 penalty.\n",
            "\n",
            "  warnings.warn(some_fits_failed_message, FitFailedWarning)\n",
            "c:\\ProgramData\\anaconda3\\envs\\tennis-ai\\Lib\\site-packages\\sklearn\\model_selection\\_search.py:979: UserWarning: One or more of the test scores are non-finite: [0.46259586        nan 0.43384639 0.46259586        nan 0.4337298\n",
            " 0.46259586        nan 0.4482665  0.46259586        nan 0.46352866\n",
            " 0.46259586        nan 0.46281614 0.46259586        nan 0.46299753\n",
            " 0.46259586        nan 0.46301047 0.46259586        nan 0.46274483]\n",
            "  warnings.warn(\n"
          ]
        },
        {
          "name": "stdout",
          "output_type": "stream",
          "text": [
            "Best Score: 0.46352866244123175\n",
            "Best Hyperparameters: {'C': 0.01, 'penalty': 'l2'}\n"
          ]
        },
        {
          "name": "stderr",
          "output_type": "stream",
          "text": [
            "c:\\ProgramData\\anaconda3\\envs\\tennis-ai\\Lib\\site-packages\\sklearn\\linear_model\\_logistic.py:460: ConvergenceWarning: lbfgs failed to converge (status=1):\n",
            "STOP: TOTAL NO. of ITERATIONS REACHED LIMIT.\n",
            "\n",
            "Increase the number of iterations (max_iter) or scale the data as shown in:\n",
            "    https://scikit-learn.org/stable/modules/preprocessing.html\n",
            "Please also refer to the documentation for alternative solver options:\n",
            "    https://scikit-learn.org/stable/modules/linear_model.html#logistic-regression\n",
            "  n_iter_i = _check_optimize_result(\n"
          ]
        }
      ],
      "source": [
        "from pandas import read_csv\n",
        "from sklearn.linear_model import LogisticRegression\n",
        "from sklearn.model_selection import RepeatedStratifiedKFold\n",
        "from sklearn.model_selection import GridSearchCV\n",
        "\n",
        "# define model\n",
        "model = LogisticRegression()\n",
        "\n",
        "# define evaluation\n",
        "cv = RepeatedStratifiedKFold(n_splits=10, n_repeats=3, random_state=1)\n",
        "\n",
        "# define search space\n",
        "space = dict()\n",
        "space['penalty'] = ['none', 'l1', 'l2']\n",
        "space['C'] = [1e-5, 1e-4, 1e-3, 1e-2, 1e-1, 1, 10, 100]\n",
        "\n",
        "# define search\n",
        "search = GridSearchCV(model, space, scoring='accuracy', n_jobs=-1, cv=cv)\n",
        "\n",
        "# execute search\n",
        "result = search.fit(X_train, y_train)\n",
        "\n",
        "# summarize result\n",
        "print('Best Score: %s' % result.best_score_)\n",
        "print('Best Hyperparameters: %s' % result.best_params_)"
      ]
    },
    {
      "cell_type": "code",
      "execution_count": 101,
      "metadata": {
        "colab": {
          "base_uri": "https://localhost:8080/",
          "height": 756
        },
        "id": "MvZ570srxfJi",
        "outputId": "4715d475-57f1-4a8d-93ac-7e5b2ea37c15"
      },
      "outputs": [
        {
          "name": "stdout",
          "output_type": "stream",
          "text": [
            "Fitting 5 folds for each of 50 candidates, totalling 250 fits\n"
          ]
        },
        {
          "name": "stderr",
          "output_type": "stream",
          "text": [
            "c:\\ProgramData\\anaconda3\\envs\\tennis-ai\\Lib\\site-packages\\sklearn\\linear_model\\_logistic.py:460: ConvergenceWarning: lbfgs failed to converge (status=1):\n",
            "STOP: TOTAL NO. of ITERATIONS REACHED LIMIT.\n",
            "\n",
            "Increase the number of iterations (max_iter) or scale the data as shown in:\n",
            "    https://scikit-learn.org/stable/modules/preprocessing.html\n",
            "Please also refer to the documentation for alternative solver options:\n",
            "    https://scikit-learn.org/stable/modules/linear_model.html#logistic-regression\n",
            "  n_iter_i = _check_optimize_result(\n"
          ]
        },
        {
          "data": {
            "text/plain": [
              "Text(0.5, 1.0, 'Scoring for different class weights')"
            ]
          },
          "execution_count": 101,
          "metadata": {},
          "output_type": "execute_result"
        },
        {
          "data": {
            "image/png": "[encoded data removed]",
            "text/plain": [
              "<Figure size 1200x800 with 1 Axes>"
            ]
          },
          "metadata": {},
          "output_type": "display_data"
        }
      ],
      "source": [
        "from sklearn.model_selection import GridSearchCV, StratifiedKFold\n",
        "lr = LogisticRegression(penalty='l2')\n",
        "\n",
        "#Setting the range for class weights\n",
        "weights = np.linspace(0.0,0.99,50)\n",
        "\n",
        "#Creating a dictionary grid for grid search\n",
        "param_grid = {'class_weight': [{0:x, 1:1.0-x} for x in weights]}\n",
        "\n",
        "#Fitting grid search to the train data with 5 folds\n",
        "gridsearch = GridSearchCV(estimator= lr, \n",
        "                          param_grid= param_grid,\n",
        "                          cv=StratifiedKFold(), \n",
        "                          n_jobs=-1, \n",
        "                          scoring='accuracy', \n",
        "                          verbose=2).fit(X_train, y_train)\n",
        "\n",
        "#Ploting the score for different values of weight\n",
        "sns.set_style('whitegrid')\n",
        "plt.figure(figsize=(12,8))\n",
        "weigh_data = pd.DataFrame({ 'score': gridsearch.cv_results_['mean_test_score'], 'weight': (1- weights)})\n",
        "sns.lineplot((weigh_data['weight'], weigh_data['score']))\n",
        "plt.xlabel('Weight for class 1')\n",
        "plt.ylabel('F1 score') # ACCURACY !!!\n",
        "plt.xticks([round(i/10,1) for i in range(0,11,1)])\n",
        "plt.title('Scoring for different class weights', fontsize=24)"
      ]
    },
    {
      "cell_type": "code",
      "execution_count": 105,
      "metadata": {
        "colab": {
          "base_uri": "https://localhost:8080/"
        },
        "id": "9UrfusQy61d_",
        "outputId": "930463c9-8bb0-40ef-d2d3-f0a220210dd1"
      },
      "outputs": [
        {
          "name": "stdout",
          "output_type": "stream",
          "text": [
            "found train score: 0.43170864427860695\n",
            "found test score: 0.4329271847490235\n"
          ]
        },
        {
          "name": "stderr",
          "output_type": "stream",
          "text": [
            "c:\\ProgramData\\anaconda3\\envs\\tennis-ai\\Lib\\site-packages\\sklearn\\linear_model\\_logistic.py:460: ConvergenceWarning: lbfgs failed to converge (status=1):\n",
            "STOP: TOTAL NO. of ITERATIONS REACHED LIMIT.\n",
            "\n",
            "Increase the number of iterations (max_iter) or scale the data as shown in:\n",
            "    https://scikit-learn.org/stable/modules/preprocessing.html\n",
            "Please also refer to the documentation for alternative solver options:\n",
            "    https://scikit-learn.org/stable/modules/linear_model.html#logistic-regression\n",
            "  n_iter_i = _check_optimize_result(\n"
          ]
        }
      ],
      "source": [
        "from sklearn.linear_model import LogisticRegression\n",
        "\n",
        "train_scores = []\n",
        "test_scores = []\n",
        "\n",
        "# 1e-7 1e-6, 1e-5, 1e-4, 1e-3\n",
        "regression = LogisticRegression(class_weight = \"balanced\", penalty='l2', max_iter=50).fit(X_train, y_train)\n",
        "\n",
        "train_score = regression.score(X_train, y_train)\n",
        "test_score = regression.score(X_test, y_test)\n",
        "\n",
        "print(f'found train score: {train_score}')\n",
        "print(f'found test score: {test_score}')"
      ]
    },
    {
      "cell_type": "code",
      "execution_count": 107,
      "metadata": {
        "colab": {
          "base_uri": "https://localhost:8080/"
        },
        "id": "8jBxEdT69tfr",
        "outputId": "cd3e3da0-5e20-42d2-f353-04dd0c7b067d"
      },
      "outputs": [
        {
          "name": "stdout",
          "output_type": "stream",
          "text": [
            "F1 Score: 0.4250539990396016\n",
            "Accuracy: 0.4329271847490235\n",
            "Precision: 0.4510936927131686\n",
            "Recall: 0.4329271847490235\n"
          ]
        }
      ],
      "source": [
        "from sklearn import metrics\n",
        "\n",
        "y_pred = regression.predict(X_test)\n",
        "print(f\"F1 Score: {metrics.f1_score(y_test, y_pred, average='weighted')}\")\n",
        "\n",
        "print(\"Accuracy:\",metrics.accuracy_score(y_test, y_pred)) \n",
        "\n",
        "print(\"Precision:\",metrics.precision_score(y_test, y_pred, average='weighted')) \n",
        "\n",
        "print(\"Recall:\",metrics.recall_score(y_test, y_pred, average='weighted')) "
      ]
    },
    {
      "cell_type": "code",
      "execution_count": 104,
      "metadata": {
        "colab": {
          "base_uri": "https://localhost:8080/",
          "height": 351
        },
        "id": "_0wlMlpg7s0m",
        "outputId": "8226d2c8-1e4d-4903-bdd7-857203c1e868"
      },
      "outputs": [
        {
          "ename": "ImportError",
          "evalue": "cannot import name 'plot_confusion_matrix' from 'sklearn.metrics' (c:\\ProgramData\\anaconda3\\envs\\tennis-ai\\Lib\\site-packages\\sklearn\\metrics\\__init__.py)",
          "output_type": "error",
          "traceback": [
            "\u001b[1;31m---------------------------------------------------------------------------\u001b[0m",
            "\u001b[1;31mImportError\u001b[0m                               Traceback (most recent call last)",
            "Cell \u001b[1;32mIn[104], line 2\u001b[0m\n\u001b[0;32m      1\u001b[0m \u001b[38;5;28;01mimport\u001b[39;00m \u001b[38;5;21;01mmatplotlib\u001b[39;00m\u001b[38;5;21;01m.\u001b[39;00m\u001b[38;5;21;01mpyplot\u001b[39;00m \u001b[38;5;28;01mas\u001b[39;00m \u001b[38;5;21;01mplt\u001b[39;00m\n\u001b[1;32m----> 2\u001b[0m \u001b[38;5;28;01mfrom\u001b[39;00m \u001b[38;5;21;01msklearn\u001b[39;00m\u001b[38;5;21;01m.\u001b[39;00m\u001b[38;5;21;01mmetrics\u001b[39;00m \u001b[38;5;28;01mimport\u001b[39;00m plot_confusion_matrix\n\u001b[0;32m      4\u001b[0m color \u001b[38;5;241m=\u001b[39m \u001b[38;5;124m'\u001b[39m\u001b[38;5;124mgreen\u001b[39m\u001b[38;5;124m'\u001b[39m\n\u001b[0;32m      5\u001b[0m matrix \u001b[38;5;241m=\u001b[39m plot_confusion_matrix(regression, X_test, y_test, cmap\u001b[38;5;241m=\u001b[39mplt\u001b[38;5;241m.\u001b[39mcm\u001b[38;5;241m.\u001b[39mBlues)\n",
            "\u001b[1;31mImportError\u001b[0m: cannot import name 'plot_confusion_matrix' from 'sklearn.metrics' (c:\\ProgramData\\anaconda3\\envs\\tennis-ai\\Lib\\site-packages\\sklearn\\metrics\\__init__.py)"
          ]
        }
      ],
      "source": [
        "import matplotlib.pyplot as plt\n",
        "from sklearn.metrics import plot_confusion_matrix\n",
        " \n",
        "color = 'green'\n",
        "matrix = plot_confusion_matrix(regression, X_test, y_test, cmap=plt.cm.Blues)\n",
        "matrix.ax_.set_title('Confusion Matrix', color=color)\n",
        "plt.xlabel('Predicted Label', color=color)\n",
        "plt.ylabel('True Label', color=color)\n",
        "plt.gcf().axes[0].tick_params(colors=color)\n",
        "plt.gcf().axes[1].tick_params(colors=color)\n",
        "plt.show()\n"
      ]
    },
    {
      "cell_type": "markdown",
      "metadata": {
        "id": "EYm-3eprYa7P"
      },
      "source": [
        "## Изводи"
      ]
    },
    {
      "cell_type": "markdown",
      "metadata": {
        "id": "PdfrPy_4SvS1"
      },
      "source": [
        "Първоначално се опитахме да класифицираме 4 класа - 3 за посока и 1 за аут. Пробвахме паралелно с KNN и с логистична регресия, като и двата модела връщаха сходни резултати за точност. Сходните резултати всъщност бяха процентът на представителност на класа с най-много данни. Още тогава пробвахме да дадем доста ниска стойност на C параметъра на логистичната регресия, за да се справим с това, но не пожънахме успех.\n",
        "\n",
        "След тези наблюдения преминахме към това да предсказваме само 3 класа - 3-те посоки без аут. Отново и двата модела връщаха същата точност, т.е. представителността на класа с най-много данни. Тогава вече решихме да пуснем и GridSearch, с който да си оптимизираме параметрите на логистичната регресия. GridSearch-ът потвърди решението ни за ниска стойност на C параметъра и това, че използваме L2 регуляризация.\n",
        "\n",
        "Тук вече се смирихме и решихме да предсказваме само 2 класа - дали сервисът е успешен или неуспешен. Директно пуснахме GridSearch, който да ни даде най-добрите C параметър, вид на регуляризацията и тежести на класовете. Тук всъщност научихме, че можем да регулираме тежестите на класовете заради небалансираността на данните - успешните сервиси представляваха ок. 70% от данните. Въртяхме доста тежести, като най-успешните всъщност ни даваха отново 70% точност, т.е. пак само първия клас.\n",
        "\n",
        "Решихме да пуснем GridSearch с фиксирани C параметър и L2 регуляризация и само да видим най-добрите тежести. И тук се потвърдиха опасенията ни, че явно данните ни не са такива каквито искахме да бъдат, т.е. изглежда, че това как ще бие един тенисист своя сервис изцяло лежи на неговия стил на игра и стратегията му спрямо конкретния мач.\n",
        "\n",
        "Като бъдеща идея - би могло да се изпробва да се предсказва сервис на играч в конкретен мач. Идеята е да се следи някаква последователност от предходните му сервиси и техните изходи и оттам по някакъв начин да се заключи какъв би могъл да бъде следващият му."
      ]
    }
  ],
  "metadata": {
    "colab": {
      "include_colab_link": true,
      "provenance": []
    },
    "gpuClass": "standard",
    "kernelspec": {
      "display_name": "Python 3",
      "name": "python3"
    },
    "language_info": {
      "codemirror_mode": {
        "name": "ipython",
        "version": 3
      },
      "file_extension": ".py",
      "mimetype": "text/x-python",
      "name": "python",
      "nbconvert_exporter": "python",
      "pygments_lexer": "ipython3",
      "version": "3.11.7"
    }
  },
  "nbformat": 4,
  "nbformat_minor": 0
}
