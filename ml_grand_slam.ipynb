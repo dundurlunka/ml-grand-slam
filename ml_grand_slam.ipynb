{
  "nbformat": 4,
  "nbformat_minor": 0,
  "metadata": {
    "colab": {
      "provenance": [],
      "authorship_tag": "ABX9TyMMl6WKrgTOVmvwyHP+lmdp",
      "include_colab_link": true
    },
    "kernelspec": {
      "name": "python3",
      "display_name": "Python 3"
    },
    "language_info": {
      "name": "python"
    }
  },
  "cells": [
    {
      "cell_type": "markdown",
      "metadata": {
        "id": "view-in-github",
        "colab_type": "text"
      },
      "source": [
        "<a href=\"https://colab.research.google.com/github/dundurlunka/ml-grand-slam/blob/main/ml_grand_slam.ipynb\" target=\"_parent\"><img src=\"https://colab.research.google.com/assets/colab-badge.svg\" alt=\"Open In Colab\"/></a>"
      ]
    },
    {
      "cell_type": "markdown",
      "source": [
        "Read data from github"
      ],
      "metadata": {
        "id": "XgjUfQsNeGkE"
      }
    },
    {
      "cell_type": "code",
      "execution_count": 30,
      "metadata": {
        "id": "JkSD4RuAcINA"
      },
      "outputs": [],
      "source": [
        "import pandas as pd\n",
        "import numpy as np\n",
        "\n",
        "import sys\n",
        "import csv"
      ]
    },
    {
      "cell_type": "code",
      "source": [
        "csv.field_size_limit(sys.maxsize)\n",
        "\n",
        "points = pd.read_csv('./charting-m-points-from-2017.csv', quoting=csv.QUOTE_NONE, encoding = 'ISO-8859-1')\n",
        "matches = pd.read_csv('./charting-m-matches.csv', quoting=csv.QUOTE_NONE, encoding = 'ISO-8859-1')"
      ],
      "metadata": {
        "id": "00M5szWYe9af",
        "colab": {
          "base_uri": "https://localhost:8080/"
        },
        "outputId": "2b6b6ff9-e956-431d-e752-2eb6b1394821"
      },
      "execution_count": 31,
      "outputs": [
        {
          "output_type": "stream",
          "name": "stderr",
          "text": [
            "/usr/local/lib/python3.8/dist-packages/IPython/core/interactiveshell.py:3326: DtypeWarning: Columns (8,9,29) have mixed types.Specify dtype option on import or set low_memory=False.\n",
            "  exec(code_obj, self.user_global_ns, self.user_ns)\n"
          ]
        }
      ]
    },
    {
      "cell_type": "markdown",
      "source": [
        "Merge the two datasets together by match_id"
      ],
      "metadata": {
        "id": "Msjc4p4ytVEe"
      }
    },
    {
      "cell_type": "code",
      "source": [
        "joinedData = pd.merge(\n",
        "    matches,\n",
        "    points,\n",
        "    how=\"inner\",\n",
        "    on='match_id',\n",
        ")"
      ],
      "metadata": {
        "id": "iRB9oJoOjR2r"
      },
      "execution_count": 32,
      "outputs": []
    },
    {
      "cell_type": "markdown",
      "source": [],
      "metadata": {
        "id": "I8sWBus2jNcY"
      }
    },
    {
      "cell_type": "code",
      "source": [
        "df_obj = joinedData.select_dtypes(['object'])\n",
        "joinedData[df_obj.columns] = df_obj.apply(lambda x: x.str.strip())"
      ],
      "metadata": {
        "id": "L01sg2qYwO4W"
      },
      "execution_count": 33,
      "outputs": []
    },
    {
      "cell_type": "markdown",
      "source": [
        "Select relevant columns from dataframe\n"
      ],
      "metadata": {
        "id": "xULtXI_Ttc-p"
      }
    },
    {
      "cell_type": "code",
      "source": [
        "joinedData.columns = joinedData.columns.to_series().apply(lambda x: x.strip())\n",
        "joinedData = joinedData.loc[:, ['Player 1', 'Player 2', 'Pl 1 hand', 'Pl 2 hand', 'Tournament', 'Surface', 'Set1','Set2', 'Gm1', 'Gm2', 'Pts', 'Serving', '1st', '2nd', 'isAce', 'isUnret']]"
      ],
      "metadata": {
        "id": "sN8PyS4kgm14"
      },
      "execution_count": 34,
      "outputs": []
    },
    {
      "cell_type": "code",
      "source": [
        "joinedData['isAce'] = joinedData['isAce'] | joinedData['isUnret']\n",
        "joinedData = joinedData.drop(columns=['isUnret', 'isAce'])"
      ],
      "metadata": {
        "id": "aA_sj7nZtokO"
      },
      "execution_count": 35,
      "outputs": []
    },
    {
      "cell_type": "code",
      "source": [
        "tennis_players = ['Daniil Medvedev', 'Alexander Zverev', 'Roger Federer', 'Dominic Thiem', 'Nick Kyrgios', 'Novak Djokovic', 'Rafael Nadal', 'Stefanos Tsitsipas', 'Casper Ruud', 'Grigor Dimitrov']\n",
        "tennis_players_initials = [''.join([x[0].upper() for x in fullname.split(' ')]) for fullname in tennis_players]\n",
        "joinedData = joinedData.loc[((joinedData['Player 1'].isin(tennis_players)) | (joinedData['Player 2'].isin(tennis_players)))]\n",
        "joinedData = joinedData.loc[joinedData['Serving'].isin(tennis_players_initials)]"
      ],
      "metadata": {
        "id": "eq79PtXOSp3g"
      },
      "execution_count": 36,
      "outputs": []
    },
    {
      "cell_type": "code",
      "source": [
        "joinedData[['Pts1', 'Pts2']] = joinedData['Pts'].str.split('-', expand=True)\n",
        "joinedData = joinedData.drop('Pts', axis='columns')"
      ],
      "metadata": {
        "id": "MilCADR0ZmvI"
      },
      "execution_count": 37,
      "outputs": []
    },
    {
      "cell_type": "markdown",
      "source": [
        "Separate the columns into new columns that are specific for Server and Returner."
      ],
      "metadata": {
        "id": "efAg6B-yhpeh"
      }
    },
    {
      "cell_type": "code",
      "source": [
        "names = []\n",
        "pointsServer = []\n",
        "pointsReturner = []\n",
        "gamesServer = []\n",
        "gamesReturner = []\n",
        "setsServer = []\n",
        "setsReturner = []\n",
        "handReturner = []\n",
        "for index, row in joinedData.iterrows():\n",
        "    if ''.join([x[0].upper() for x in row['Player 1'].split(' ')]) == row['Serving']:\n",
        "      names.append(row['Player 1'])\n",
        "      pointsServer.append(row['Pts1'])\n",
        "      pointsReturner.append(row['Pts2'])\n",
        "      gamesServer.append(row['Gm1'])\n",
        "      gamesReturner.append(row['Gm2'])\n",
        "      setsServer.append(row['Set1'])\n",
        "      setsReturner.append(row['Set2'])\n",
        "      handReturner.append(row['Pl 2 hand'])\n",
        "    elif ''.join([x[0].upper() for x in row['Player 2'].split(' ')]) == row['Serving']:\n",
        "      names.append(row['Player 2'])\n",
        "      pointsServer.append(row['Pts2'])\n",
        "      pointsReturner.append(row['Pts1'])\n",
        "      gamesServer.append(row['Gm2'])\n",
        "      gamesReturner.append(row['Gm1'])\n",
        "      setsServer.append(row['Set2'])\n",
        "      setsReturner.append(row['Set1'])\n",
        "      handReturner.append(row['Pl 1 hand'])\n",
        "\n",
        "joinedData['FullNameServer'] = names\n",
        "joinedData['PointsServer'] = pointsServer\n",
        "joinedData['PointsReturner'] = pointsReturner\n",
        "joinedData['GamesServer'] = gamesServer\n",
        "joinedData['GamesReturner'] = gamesReturner\n",
        "joinedData['SetsServer'] = setsServer\n",
        "joinedData['SetsReturner'] = setsReturner\n",
        "joinedData['HandReturner'] = handReturner\n",
        "\n",
        "joinedData = joinedData.drop(columns=['Player 1', 'Player 2', 'Pts1', 'Pts2', 'Gm1', 'Gm2', 'Set1', 'Set2', 'Pl 1 hand', 'Pl 2 hand', 'Serving'])"
      ],
      "metadata": {
        "id": "VvCVdtA5dK09"
      },
      "execution_count": 38,
      "outputs": []
    },
    {
      "cell_type": "markdown",
      "source": [
        "Combine the serves into one column with a list of 1 or 2 serves so that it can be exploded into several rows later"
      ],
      "metadata": {
        "id": "uhLWe-BTiRtW"
      }
    },
    {
      "cell_type": "code",
      "source": [
        "joinedData['Serves'] = joinedData.apply(lambda x: list(['f' + str(x['1st']),\n",
        "                                                        's' + str(x['2nd'])]), axis=1)   "
      ],
      "metadata": {
        "id": "uDUEZvkUv6xV"
      },
      "execution_count": 39,
      "outputs": []
    },
    {
      "cell_type": "markdown",
      "source": [
        "Explode list of first and second serve into separate rows"
      ],
      "metadata": {
        "id": "513WgAufXHm3"
      }
    },
    {
      "cell_type": "code",
      "source": [
        "joinedData = joinedData.explode('Serves')"
      ],
      "metadata": {
        "id": "m868wutCXU9e"
      },
      "execution_count": 40,
      "outputs": []
    },
    {
      "cell_type": "markdown",
      "source": [
        "Add new column indicating whether the serve was first or second"
      ],
      "metadata": {
        "id": "mqiN00YKYBW-"
      }
    },
    {
      "cell_type": "code",
      "source": [
        "joinedData['IsFirstServe'] = joinedData['Serves'].str[0] == 'f'"
      ],
      "metadata": {
        "id": "7mJfOkIFYHtu"
      },
      "execution_count": 41,
      "outputs": []
    },
    {
      "cell_type": "markdown",
      "source": [
        "Remove 'f' and 's' (first and second serve) that were indicators before the explosion"
      ],
      "metadata": {
        "id": "on6335xYYh3J"
      }
    },
    {
      "cell_type": "code",
      "source": [
        "joinedData['Serves'] = joinedData['Serves'].str[1:]\n",
        "joinedData = joinedData[(joinedData['Serves'] != 'nan') & (joinedData['Serves'] != '')]\n",
        "joinedData = joinedData.drop(columns=['1st', '2nd'])"
      ],
      "metadata": {
        "id": "ihQjtZbiYn50"
      },
      "execution_count": 42,
      "outputs": []
    },
    {
      "cell_type": "markdown",
      "source": [
        "Remove lets"
      ],
      "metadata": {
        "id": "qIGcmgBEcSHn"
      }
    },
    {
      "cell_type": "code",
      "source": [
        "joinedData['Serves'] = joinedData['Serves'].map(lambda x: x.lstrip('c'))"
      ],
      "metadata": {
        "id": "jwYcK8R3cS_d"
      },
      "execution_count": 43,
      "outputs": []
    },
    {
      "cell_type": "code",
      "source": [
        "joinedData['FullNameServer'].value_counts()"
      ],
      "metadata": {
        "colab": {
          "base_uri": "https://localhost:8080/"
        },
        "id": "kGBaCH1eahcp",
        "outputId": "3dd746ee-cb65-416f-d848-2b1c7a738beb"
      },
      "execution_count": 44,
      "outputs": [
        {
          "output_type": "execute_result",
          "data": {
            "text/plain": [
              "Roger Federer         12724\n",
              "Novak Djokovic        12549\n",
              "Daniil Medvedev       12427\n",
              "Stefanos Tsitsipas    10837\n",
              "Rafael Nadal          10717\n",
              "Dominic Thiem         10051\n",
              "Alexander Zverev       8100\n",
              "Nick Kyrgios           7470\n",
              "Casper Ruud            5300\n",
              "Grigor Dimitrov        5101\n",
              "Name: FullNameServer, dtype: int64"
            ]
          },
          "metadata": {},
          "execution_count": 44
        }
      ]
    },
    {
      "cell_type": "markdown",
      "source": [
        "Extract direction of serve"
      ],
      "metadata": {
        "id": "85EE5FTadWT9"
      }
    },
    {
      "cell_type": "code",
      "source": [
        "def extract_serve_direction(row):\n",
        "  serves_directions_dict = {\n",
        "      '4': 'Out wide',\n",
        "      '5': 'Body',\n",
        "      '6': 'Down the T'\n",
        "  }\n",
        "\n",
        "  if len(row['Serves']) > 1 and row['Serves'][1] in ['x', 'd', 'w', 'n', 'g', '!', 'e']:\n",
        "      return \"Fault\"\n",
        "  else:\n",
        "      return serves_directions_dict.get(row['Serves'][0], 'Body')\n",
        "\n",
        "joinedData['Direction'] = joinedData.apply(extract_serve_direction, axis=1)\n",
        "joinedData = joinedData.drop(columns='Serves')"
      ],
      "metadata": {
        "id": "_P9fmn4pdYS9"
      },
      "execution_count": 45,
      "outputs": []
    },
    {
      "cell_type": "markdown",
      "source": [
        "# Start of machine learning"
      ],
      "metadata": {
        "id": "q0o1Q_Ezj6eU"
      }
    },
    {
      "cell_type": "markdown",
      "source": [
        "### Data exploration"
      ],
      "metadata": {
        "id": "5aTS0JBc56jZ"
      }
    },
    {
      "cell_type": "code",
      "source": [
        "import seaborn as sns\n",
        "import matplotlib\n",
        "import matplotlib.pyplot as plt\n",
        "from sklearn.neighbors import KNeighborsClassifier\n",
        "from sklearn.model_selection import train_test_split"
      ],
      "metadata": {
        "id": "FLNBo3B52ScE"
      },
      "execution_count": 46,
      "outputs": []
    },
    {
      "cell_type": "code",
      "source": [
        "joinedData['Direction'].value_counts().plot(kind='bar')"
      ],
      "metadata": {
        "id": "LaW9CJ9zj_O2",
        "colab": {
          "base_uri": "https://localhost:8080/",
          "height": 329
        },
        "outputId": "1f85aa2e-fceb-4e1e-9360-e101d14142a4"
      },
      "execution_count": 47,
      "outputs": [
        {
          "output_type": "execute_result",
          "data": {
            "text/plain": [
              "<matplotlib.axes._subplots.AxesSubplot at 0x7f9d280b3640>"
            ]
          },
          "metadata": {},
          "execution_count": 47
        },
        {
          "output_type": "display_data",
          "data": {
            "text/plain": [
              "<Figure size 432x288 with 1 Axes>"
            ],
            "image/png": "[encoded data removed]"
          },
          "metadata": {
            "needs_background": "light"
          }
        }
      ]
    },
    {
      "cell_type": "code",
      "source": [
        "sns.countplot(\n",
        "    x = 'Direction',\n",
        "    hue = 'IsFirstServe',\n",
        "    data = joinedData,\n",
        ")"
      ],
      "metadata": {
        "colab": {
          "base_uri": "https://localhost:8080/",
          "height": 296
        },
        "id": "JJwm0_pl2QBr",
        "outputId": "c2c7238c-42ff-4d16-d4b8-286c91e543b2"
      },
      "execution_count": 48,
      "outputs": [
        {
          "output_type": "execute_result",
          "data": {
            "text/plain": [
              "<matplotlib.axes._subplots.AxesSubplot at 0x7f9d280ca8e0>"
            ]
          },
          "metadata": {},
          "execution_count": 48
        },
        {
          "output_type": "display_data",
          "data": {
            "text/plain": [
              "<Figure size 432x288 with 1 Axes>"
            ],
            "image/png": "[encoded data removed]"
          },
          "metadata": {
            "needs_background": "light"
          }
        }
      ]
    },
    {
      "cell_type": "markdown",
      "source": [
        "## Pre-processing"
      ],
      "metadata": {
        "id": "uxEpkcxm59kk"
      }
    },
    {
      "cell_type": "code",
      "source": [
        "X = joinedData.drop(columns=['Direction'])\n",
        "y = joinedData['Direction']\n",
        "print(y)"
      ],
      "metadata": {
        "colab": {
          "base_uri": "https://localhost:8080/"
        },
        "id": "wkyJ5pn89c2A",
        "outputId": "1b0abdc8-4839-4732-b684-83ed126ec82e"
      },
      "execution_count": 128,
      "outputs": [
        {
          "output_type": "stream",
          "name": "stdout",
          "text": [
            "637            Fault\n",
            "637         Out wide\n",
            "638            Fault\n",
            "638       Down the T\n",
            "639         Out wide\n",
            "             ...    \n",
            "295482      Out wide\n",
            "295483         Fault\n",
            "295483      Out wide\n",
            "295484         Fault\n",
            "295484          Body\n",
            "Name: Direction, Length: 95276, dtype: object\n"
          ]
        }
      ]
    },
    {
      "cell_type": "markdown",
      "source": [
        "### One hot encoding attributes"
      ],
      "metadata": {
        "id": "1Pgr1Sq99DV1"
      }
    },
    {
      "cell_type": "code",
      "source": [
        "X.shape[1]"
      ],
      "metadata": {
        "colab": {
          "base_uri": "https://localhost:8080/"
        },
        "id": "N5kOI8acUG3S",
        "outputId": "87e5aa89-53ab-4481-ef5b-0c8caf7cb993"
      },
      "execution_count": 131,
      "outputs": [
        {
          "output_type": "execute_result",
          "data": {
            "text/plain": [
              "11"
            ]
          },
          "metadata": {},
          "execution_count": 131
        }
      ]
    },
    {
      "cell_type": "code",
      "source": [
        "from sklearn.compose import ColumnTransformer\n",
        "from sklearn.preprocessing import OneHotEncoder\n",
        "from sklearn.compose import make_column_transformer\n",
        "\n",
        "categorical_columns = ['Tournament', 'Surface', 'FullNameServer', 'PointsServer', 'PointsReturner', 'HandReturner']\n",
        "\n",
        "from sklearn.preprocessing import LabelEncoder\n",
        "transformer = make_column_transformer(\n",
        "    (OneHotEncoder(), categorical_columns),\n",
        "    remainder='passthrough')\n",
        "\n",
        "transformed = transformer.fit_transform(X)\n",
        "print(transformed)\n",
        "\n",
        "# print(transformed)\n",
        "# print(transformer.get_feature_names_out())\n",
        "transformed_df = pd.DataFrame([transformed], columns=transformer.get_feature_names_out())\n",
        "transformed_df.head()"
      ],
      "metadata": {
        "id": "hwEpcfKU6BS8"
      },
      "execution_count": null,
      "outputs": []
    },
    {
      "cell_type": "markdown",
      "source": [
        "### Label encoding the label"
      ],
      "metadata": {
        "id": "Zf39MHbY_Dt0"
      }
    },
    {
      "cell_type": "code",
      "source": [
        "from sklearn.preprocessing import LabelEncoder\n",
        "le = LabelEncoder()\n",
        "y = le.fit_transform(y)"
      ],
      "metadata": {
        "id": "Dp-WHLlI_JcZ"
      },
      "execution_count": 85,
      "outputs": []
    },
    {
      "cell_type": "markdown",
      "source": [
        "### Splitting into train test"
      ],
      "metadata": {
        "id": "uh7RwfP_K5ZG"
      }
    },
    {
      "cell_type": "code",
      "source": [
        "X = X.iloc[:, :-1].values"
      ],
      "metadata": {
        "colab": {
          "base_uri": "https://localhost:8080/",
          "height": 408
        },
        "id": "KKCE1UkHLAAk",
        "outputId": "62c5df71-a1f2-452a-dfde-3c5b0c1bf824"
      },
      "execution_count": 91,
      "outputs": [
        {
          "output_type": "stream",
          "name": "stdout",
          "text": [
            "[[<1x118 sparse matrix of type '<class 'numpy.float64'>'\n",
            "  \twith 6 stored elements in Compressed Sparse Row format> 0 0 0 0]\n",
            " [<1x118 sparse matrix of type '<class 'numpy.float64'>'\n",
            "  \twith 6 stored elements in Compressed Sparse Row format> 0 0 0 0]\n",
            " [<1x118 sparse matrix of type '<class 'numpy.float64'>'\n",
            "  \twith 6 stored elements in Compressed Sparse Row format> 0 0 0 0]\n",
            " ...\n",
            " [<1x118 sparse matrix of type '<class 'numpy.float64'>'\n",
            "  \twith 6 stored elements in Compressed Sparse Row format> 5 4 1 1]\n",
            " [<1x118 sparse matrix of type '<class 'numpy.float64'>'\n",
            "  \twith 6 stored elements in Compressed Sparse Row format> 5 4 1 1]\n",
            " [<1x118 sparse matrix of type '<class 'numpy.float64'>'\n",
            "  \twith 6 stored elements in Compressed Sparse Row format> 5 4 1 1]]\n"
          ]
        },
        {
          "output_type": "error",
          "ename": "AttributeError",
          "evalue": "ignored",
          "traceback": [
            "\u001b[0;31m---------------------------------------------------------------------------\u001b[0m",
            "\u001b[0;31mAttributeError\u001b[0m                            Traceback (most recent call last)",
            "\u001b[0;32m<ipython-input-91-910d4572a480>\u001b[0m in \u001b[0;36m<module>\u001b[0;34m\u001b[0m\n\u001b[1;32m      1\u001b[0m \u001b[0mprint\u001b[0m\u001b[0;34m(\u001b[0m\u001b[0mX\u001b[0m\u001b[0;34m)\u001b[0m\u001b[0;34m\u001b[0m\u001b[0;34m\u001b[0m\u001b[0m\n\u001b[0;32m----> 2\u001b[0;31m \u001b[0mX\u001b[0m \u001b[0;34m=\u001b[0m \u001b[0mX\u001b[0m\u001b[0;34m.\u001b[0m\u001b[0miloc\u001b[0m\u001b[0;34m[\u001b[0m\u001b[0;34m:\u001b[0m\u001b[0;34m,\u001b[0m \u001b[0;34m:\u001b[0m\u001b[0;34m-\u001b[0m\u001b[0;36m1\u001b[0m\u001b[0;34m]\u001b[0m\u001b[0;34m.\u001b[0m\u001b[0mvalues\u001b[0m\u001b[0;34m\u001b[0m\u001b[0;34m\u001b[0m\u001b[0m\n\u001b[0m",
            "\u001b[0;31mAttributeError\u001b[0m: 'numpy.ndarray' object has no attribute 'iloc'"
          ]
        }
      ]
    },
    {
      "cell_type": "code",
      "source": [
        "X_train, X_test, y_train, y_test = train_test_split(X, y)"
      ],
      "metadata": {
        "id": "aOGSzJKJ1x1_"
      },
      "execution_count": 87,
      "outputs": []
    },
    {
      "cell_type": "markdown",
      "source": [
        "## KNN"
      ],
      "metadata": {
        "id": "xPgcXtuWHkuC"
      }
    },
    {
      "cell_type": "code",
      "source": [
        "def plot_knn_scores(ks):\n",
        "    train_scores = []\n",
        "    test_scores = []\n",
        "    \n",
        "    for k in ks:\n",
        "        clf = KNeighborsClassifier(n_neighbors=k).fit(X_train, y_train)\n",
        "        train_score = clf.score(X_train, y_train)\n",
        "        test_score = clf.score(X_test, y_test)\n",
        "        \n",
        "        train_scores.append(train_score)\n",
        "        test_scores.append(test_score)\n",
        "\n",
        "    plt.figure(figsize=(10, 6))\n",
        "    plt.plot(ks, train_scores, color='blue', label='train score')\n",
        "    plt.plot(ks, test_scores, color='green', label='test score')\n",
        "    plt.legend()"
      ],
      "metadata": {
        "id": "HR5fd70tHnsz"
      },
      "execution_count": 88,
      "outputs": []
    },
    {
      "cell_type": "code",
      "source": [
        "plot_knn_scores(range(1, 13, 2))"
      ],
      "metadata": {
        "colab": {
          "base_uri": "https://localhost:8080/",
          "height": 415
        },
        "id": "SWatHJCQJMRR",
        "outputId": "7fcba80f-0abe-4625-b9ec-9edd1f722a84"
      },
      "execution_count": 89,
      "outputs": [
        {
          "output_type": "error",
          "ename": "ValueError",
          "evalue": "ignored",
          "traceback": [
            "\u001b[0;31m---------------------------------------------------------------------------\u001b[0m",
            "\u001b[0;31mTypeError\u001b[0m                                 Traceback (most recent call last)",
            "\u001b[0;31mTypeError\u001b[0m: float() argument must be a string or a number, not 'csr_matrix'",
            "\nThe above exception was the direct cause of the following exception:\n",
            "\u001b[0;31mValueError\u001b[0m                                Traceback (most recent call last)",
            "\u001b[0;32m<ipython-input-89-a98521b750c1>\u001b[0m in \u001b[0;36m<module>\u001b[0;34m\u001b[0m\n\u001b[0;32m----> 1\u001b[0;31m \u001b[0mplot_knn_scores\u001b[0m\u001b[0;34m(\u001b[0m\u001b[0mrange\u001b[0m\u001b[0;34m(\u001b[0m\u001b[0;36m1\u001b[0m\u001b[0;34m,\u001b[0m \u001b[0;36m13\u001b[0m\u001b[0;34m,\u001b[0m \u001b[0;36m2\u001b[0m\u001b[0;34m)\u001b[0m\u001b[0;34m)\u001b[0m\u001b[0;34m\u001b[0m\u001b[0;34m\u001b[0m\u001b[0m\n\u001b[0m",
            "\u001b[0;32m<ipython-input-88-adbe88f0134a>\u001b[0m in \u001b[0;36mplot_knn_scores\u001b[0;34m(ks)\u001b[0m\n\u001b[1;32m      4\u001b[0m \u001b[0;34m\u001b[0m\u001b[0m\n\u001b[1;32m      5\u001b[0m     \u001b[0;32mfor\u001b[0m \u001b[0mk\u001b[0m \u001b[0;32min\u001b[0m \u001b[0mks\u001b[0m\u001b[0;34m:\u001b[0m\u001b[0;34m\u001b[0m\u001b[0;34m\u001b[0m\u001b[0m\n\u001b[0;32m----> 6\u001b[0;31m         \u001b[0mclf\u001b[0m \u001b[0;34m=\u001b[0m \u001b[0mKNeighborsClassifier\u001b[0m\u001b[0;34m(\u001b[0m\u001b[0mn_neighbors\u001b[0m\u001b[0;34m=\u001b[0m\u001b[0mk\u001b[0m\u001b[0;34m)\u001b[0m\u001b[0;34m.\u001b[0m\u001b[0mfit\u001b[0m\u001b[0;34m(\u001b[0m\u001b[0mX_train\u001b[0m\u001b[0;34m,\u001b[0m \u001b[0my_train\u001b[0m\u001b[0;34m)\u001b[0m\u001b[0;34m\u001b[0m\u001b[0;34m\u001b[0m\u001b[0m\n\u001b[0m\u001b[1;32m      7\u001b[0m         \u001b[0mtrain_score\u001b[0m \u001b[0;34m=\u001b[0m \u001b[0mclf\u001b[0m\u001b[0;34m.\u001b[0m\u001b[0mscore\u001b[0m\u001b[0;34m(\u001b[0m\u001b[0mX_train\u001b[0m\u001b[0;34m,\u001b[0m \u001b[0my_train\u001b[0m\u001b[0;34m)\u001b[0m\u001b[0;34m\u001b[0m\u001b[0;34m\u001b[0m\u001b[0m\n\u001b[1;32m      8\u001b[0m         \u001b[0mtest_score\u001b[0m \u001b[0;34m=\u001b[0m \u001b[0mclf\u001b[0m\u001b[0;34m.\u001b[0m\u001b[0mscore\u001b[0m\u001b[0;34m(\u001b[0m\u001b[0mX_test\u001b[0m\u001b[0;34m,\u001b[0m \u001b[0my_test\u001b[0m\u001b[0;34m)\u001b[0m\u001b[0;34m\u001b[0m\u001b[0;34m\u001b[0m\u001b[0m\n",
            "\u001b[0;32m/usr/local/lib/python3.8/dist-packages/sklearn/neighbors/_classification.py\u001b[0m in \u001b[0;36mfit\u001b[0;34m(self, X, y)\u001b[0m\n\u001b[1;32m    196\u001b[0m         \u001b[0mself\u001b[0m\u001b[0;34m.\u001b[0m\u001b[0mweights\u001b[0m \u001b[0;34m=\u001b[0m \u001b[0m_check_weights\u001b[0m\u001b[0;34m(\u001b[0m\u001b[0mself\u001b[0m\u001b[0;34m.\u001b[0m\u001b[0mweights\u001b[0m\u001b[0;34m)\u001b[0m\u001b[0;34m\u001b[0m\u001b[0;34m\u001b[0m\u001b[0m\n\u001b[1;32m    197\u001b[0m \u001b[0;34m\u001b[0m\u001b[0m\n\u001b[0;32m--> 198\u001b[0;31m         \u001b[0;32mreturn\u001b[0m \u001b[0mself\u001b[0m\u001b[0;34m.\u001b[0m\u001b[0m_fit\u001b[0m\u001b[0;34m(\u001b[0m\u001b[0mX\u001b[0m\u001b[0;34m,\u001b[0m \u001b[0my\u001b[0m\u001b[0;34m)\u001b[0m\u001b[0;34m\u001b[0m\u001b[0;34m\u001b[0m\u001b[0m\n\u001b[0m\u001b[1;32m    199\u001b[0m \u001b[0;34m\u001b[0m\u001b[0m\n\u001b[1;32m    200\u001b[0m     \u001b[0;32mdef\u001b[0m \u001b[0mpredict\u001b[0m\u001b[0;34m(\u001b[0m\u001b[0mself\u001b[0m\u001b[0;34m,\u001b[0m \u001b[0mX\u001b[0m\u001b[0;34m)\u001b[0m\u001b[0;34m:\u001b[0m\u001b[0;34m\u001b[0m\u001b[0;34m\u001b[0m\u001b[0m\n",
            "\u001b[0;32m/usr/local/lib/python3.8/dist-packages/sklearn/neighbors/_base.py\u001b[0m in \u001b[0;36m_fit\u001b[0;34m(self, X, y)\u001b[0m\n\u001b[1;32m    398\u001b[0m         \u001b[0;32mif\u001b[0m \u001b[0mself\u001b[0m\u001b[0;34m.\u001b[0m\u001b[0m_get_tags\u001b[0m\u001b[0;34m(\u001b[0m\u001b[0;34m)\u001b[0m\u001b[0;34m[\u001b[0m\u001b[0;34m\"requires_y\"\u001b[0m\u001b[0;34m]\u001b[0m\u001b[0;34m:\u001b[0m\u001b[0;34m\u001b[0m\u001b[0;34m\u001b[0m\u001b[0m\n\u001b[1;32m    399\u001b[0m             \u001b[0;32mif\u001b[0m \u001b[0;32mnot\u001b[0m \u001b[0misinstance\u001b[0m\u001b[0;34m(\u001b[0m\u001b[0mX\u001b[0m\u001b[0;34m,\u001b[0m \u001b[0;34m(\u001b[0m\u001b[0mKDTree\u001b[0m\u001b[0;34m,\u001b[0m \u001b[0mBallTree\u001b[0m\u001b[0;34m,\u001b[0m \u001b[0mNeighborsBase\u001b[0m\u001b[0;34m)\u001b[0m\u001b[0;34m)\u001b[0m\u001b[0;34m:\u001b[0m\u001b[0;34m\u001b[0m\u001b[0;34m\u001b[0m\u001b[0m\n\u001b[0;32m--> 400\u001b[0;31m                 \u001b[0mX\u001b[0m\u001b[0;34m,\u001b[0m \u001b[0my\u001b[0m \u001b[0;34m=\u001b[0m \u001b[0mself\u001b[0m\u001b[0;34m.\u001b[0m\u001b[0m_validate_data\u001b[0m\u001b[0;34m(\u001b[0m\u001b[0mX\u001b[0m\u001b[0;34m,\u001b[0m \u001b[0my\u001b[0m\u001b[0;34m,\u001b[0m \u001b[0maccept_sparse\u001b[0m\u001b[0;34m=\u001b[0m\u001b[0;34m\"csr\"\u001b[0m\u001b[0;34m,\u001b[0m \u001b[0mmulti_output\u001b[0m\u001b[0;34m=\u001b[0m\u001b[0;32mTrue\u001b[0m\u001b[0;34m)\u001b[0m\u001b[0;34m\u001b[0m\u001b[0;34m\u001b[0m\u001b[0m\n\u001b[0m\u001b[1;32m    401\u001b[0m \u001b[0;34m\u001b[0m\u001b[0m\n\u001b[1;32m    402\u001b[0m             \u001b[0;32mif\u001b[0m \u001b[0mis_classifier\u001b[0m\u001b[0;34m(\u001b[0m\u001b[0mself\u001b[0m\u001b[0;34m)\u001b[0m\u001b[0;34m:\u001b[0m\u001b[0;34m\u001b[0m\u001b[0;34m\u001b[0m\u001b[0m\n",
            "\u001b[0;32m/usr/local/lib/python3.8/dist-packages/sklearn/base.py\u001b[0m in \u001b[0;36m_validate_data\u001b[0;34m(self, X, y, reset, validate_separately, **check_params)\u001b[0m\n\u001b[1;32m    579\u001b[0m                 \u001b[0my\u001b[0m \u001b[0;34m=\u001b[0m \u001b[0mcheck_array\u001b[0m\u001b[0;34m(\u001b[0m\u001b[0my\u001b[0m\u001b[0;34m,\u001b[0m \u001b[0;34m**\u001b[0m\u001b[0mcheck_y_params\u001b[0m\u001b[0;34m)\u001b[0m\u001b[0;34m\u001b[0m\u001b[0;34m\u001b[0m\u001b[0m\n\u001b[1;32m    580\u001b[0m             \u001b[0;32melse\u001b[0m\u001b[0;34m:\u001b[0m\u001b[0;34m\u001b[0m\u001b[0;34m\u001b[0m\u001b[0m\n\u001b[0;32m--> 581\u001b[0;31m                 \u001b[0mX\u001b[0m\u001b[0;34m,\u001b[0m \u001b[0my\u001b[0m \u001b[0;34m=\u001b[0m \u001b[0mcheck_X_y\u001b[0m\u001b[0;34m(\u001b[0m\u001b[0mX\u001b[0m\u001b[0;34m,\u001b[0m \u001b[0my\u001b[0m\u001b[0;34m,\u001b[0m \u001b[0;34m**\u001b[0m\u001b[0mcheck_params\u001b[0m\u001b[0;34m)\u001b[0m\u001b[0;34m\u001b[0m\u001b[0;34m\u001b[0m\u001b[0m\n\u001b[0m\u001b[1;32m    582\u001b[0m             \u001b[0mout\u001b[0m \u001b[0;34m=\u001b[0m \u001b[0mX\u001b[0m\u001b[0;34m,\u001b[0m \u001b[0my\u001b[0m\u001b[0;34m\u001b[0m\u001b[0;34m\u001b[0m\u001b[0m\n\u001b[1;32m    583\u001b[0m \u001b[0;34m\u001b[0m\u001b[0m\n",
            "\u001b[0;32m/usr/local/lib/python3.8/dist-packages/sklearn/utils/validation.py\u001b[0m in \u001b[0;36mcheck_X_y\u001b[0;34m(X, y, accept_sparse, accept_large_sparse, dtype, order, copy, force_all_finite, ensure_2d, allow_nd, multi_output, ensure_min_samples, ensure_min_features, y_numeric, estimator)\u001b[0m\n\u001b[1;32m    962\u001b[0m         \u001b[0;32mraise\u001b[0m \u001b[0mValueError\u001b[0m\u001b[0;34m(\u001b[0m\u001b[0;34m\"y cannot be None\"\u001b[0m\u001b[0;34m)\u001b[0m\u001b[0;34m\u001b[0m\u001b[0;34m\u001b[0m\u001b[0m\n\u001b[1;32m    963\u001b[0m \u001b[0;34m\u001b[0m\u001b[0m\n\u001b[0;32m--> 964\u001b[0;31m     X = check_array(\n\u001b[0m\u001b[1;32m    965\u001b[0m         \u001b[0mX\u001b[0m\u001b[0;34m,\u001b[0m\u001b[0;34m\u001b[0m\u001b[0;34m\u001b[0m\u001b[0m\n\u001b[1;32m    966\u001b[0m         \u001b[0maccept_sparse\u001b[0m\u001b[0;34m=\u001b[0m\u001b[0maccept_sparse\u001b[0m\u001b[0;34m,\u001b[0m\u001b[0;34m\u001b[0m\u001b[0;34m\u001b[0m\u001b[0m\n",
            "\u001b[0;32m/usr/local/lib/python3.8/dist-packages/sklearn/utils/validation.py\u001b[0m in \u001b[0;36mcheck_array\u001b[0;34m(array, accept_sparse, accept_large_sparse, dtype, order, copy, force_all_finite, ensure_2d, allow_nd, ensure_min_samples, ensure_min_features, estimator)\u001b[0m\n\u001b[1;32m    744\u001b[0m                     \u001b[0marray\u001b[0m \u001b[0;34m=\u001b[0m \u001b[0marray\u001b[0m\u001b[0;34m.\u001b[0m\u001b[0mastype\u001b[0m\u001b[0;34m(\u001b[0m\u001b[0mdtype\u001b[0m\u001b[0;34m,\u001b[0m \u001b[0mcasting\u001b[0m\u001b[0;34m=\u001b[0m\u001b[0;34m\"unsafe\"\u001b[0m\u001b[0;34m,\u001b[0m \u001b[0mcopy\u001b[0m\u001b[0;34m=\u001b[0m\u001b[0;32mFalse\u001b[0m\u001b[0;34m)\u001b[0m\u001b[0;34m\u001b[0m\u001b[0;34m\u001b[0m\u001b[0m\n\u001b[1;32m    745\u001b[0m                 \u001b[0;32melse\u001b[0m\u001b[0;34m:\u001b[0m\u001b[0;34m\u001b[0m\u001b[0;34m\u001b[0m\u001b[0m\n\u001b[0;32m--> 746\u001b[0;31m                     \u001b[0marray\u001b[0m \u001b[0;34m=\u001b[0m \u001b[0mnp\u001b[0m\u001b[0;34m.\u001b[0m\u001b[0masarray\u001b[0m\u001b[0;34m(\u001b[0m\u001b[0marray\u001b[0m\u001b[0;34m,\u001b[0m \u001b[0morder\u001b[0m\u001b[0;34m=\u001b[0m\u001b[0morder\u001b[0m\u001b[0;34m,\u001b[0m \u001b[0mdtype\u001b[0m\u001b[0;34m=\u001b[0m\u001b[0mdtype\u001b[0m\u001b[0;34m)\u001b[0m\u001b[0;34m\u001b[0m\u001b[0;34m\u001b[0m\u001b[0m\n\u001b[0m\u001b[1;32m    747\u001b[0m             \u001b[0;32mexcept\u001b[0m \u001b[0mComplexWarning\u001b[0m \u001b[0;32mas\u001b[0m \u001b[0mcomplex_warning\u001b[0m\u001b[0;34m:\u001b[0m\u001b[0;34m\u001b[0m\u001b[0;34m\u001b[0m\u001b[0m\n\u001b[1;32m    748\u001b[0m                 raise ValueError(\n",
            "\u001b[0;31mValueError\u001b[0m: setting an array element with a sequence."
          ]
        }
      ]
    },
    {
      "cell_type": "code",
      "source": [
        "# pd.set_option('display.max_rows', 500)\n",
        "# joinedData.head(500)\n",
        "\n",
        "print(X_train)"
      ],
      "metadata": {
        "id": "ikAGIOjfXyyq"
      },
      "execution_count": null,
      "outputs": []
    }
  ]
}