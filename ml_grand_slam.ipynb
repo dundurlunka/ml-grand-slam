{
  "nbformat": 4,
  "nbformat_minor": 0,
  "metadata": {
    "colab": {
      "provenance": [],
      "authorship_tag": "ABX9TyNoGQ2YA4Wm9ema6KRQW3da",
      "include_colab_link": true
    },
    "kernelspec": {
      "name": "python3",
      "display_name": "Python 3"
    },
    "language_info": {
      "name": "python"
    },
    "gpuClass": "standard",
    "accelerator": "TPU"
  },
  "cells": [
    {
      "cell_type": "markdown",
      "metadata": {
        "id": "view-in-github",
        "colab_type": "text"
      },
      "source": [
        "<a href=\"https://colab.research.google.com/github/dundurlunka/ml-grand-slam/blob/main/ml_grand_slam.ipynb\" target=\"_parent\"><img src=\"https://colab.research.google.com/assets/colab-badge.svg\" alt=\"Open In Colab\"/></a>"
      ]
    },
    {
      "cell_type": "markdown",
      "source": [
        "Read data from github"
      ],
      "metadata": {
        "id": "XgjUfQsNeGkE"
      }
    },
    {
      "cell_type": "code",
      "execution_count": 3,
      "metadata": {
        "id": "JkSD4RuAcINA"
      },
      "outputs": [],
      "source": [
        "import pandas as pd\n",
        "import numpy as np\n",
        "\n",
        "import sys\n",
        "import csv"
      ]
    },
    {
      "cell_type": "code",
      "source": [
        "csv.field_size_limit(sys.maxsize)\n",
        "\n",
        "points = pd.read_csv('./charting-m-points-from-2017.csv', quoting=csv.QUOTE_NONE, encoding = 'ISO-8859-1')\n",
        "matches = pd.read_csv('./charting-m-matches.csv', quoting=csv.QUOTE_NONE, encoding = 'ISO-8859-1')"
      ],
      "metadata": {
        "id": "00M5szWYe9af",
        "colab": {
          "base_uri": "https://localhost:8080/"
        },
        "outputId": "6409f9e0-f263-40c2-a824-8573fd6f09ea"
      },
      "execution_count": 4,
      "outputs": [
        {
          "output_type": "stream",
          "name": "stderr",
          "text": [
            "/usr/local/lib/python3.8/dist-packages/IPython/core/interactiveshell.py:3326: DtypeWarning: Columns (8,9,29) have mixed types.Specify dtype option on import or set low_memory=False.\n",
            "  exec(code_obj, self.user_global_ns, self.user_ns)\n"
          ]
        }
      ]
    },
    {
      "cell_type": "markdown",
      "source": [
        "Merge the two datasets together by match_id"
      ],
      "metadata": {
        "id": "Msjc4p4ytVEe"
      }
    },
    {
      "cell_type": "code",
      "source": [
        "joinedData = pd.merge(\n",
        "    matches,\n",
        "    points,\n",
        "    how=\"inner\",\n",
        "    on='match_id',\n",
        ")"
      ],
      "metadata": {
        "id": "iRB9oJoOjR2r"
      },
      "execution_count": 5,
      "outputs": []
    },
    {
      "cell_type": "markdown",
      "source": [],
      "metadata": {
        "id": "I8sWBus2jNcY"
      }
    },
    {
      "cell_type": "code",
      "source": [
        "df_obj = joinedData.select_dtypes(['object'])\n",
        "joinedData[df_obj.columns] = df_obj.apply(lambda x: x.str.strip())"
      ],
      "metadata": {
        "id": "L01sg2qYwO4W"
      },
      "execution_count": 6,
      "outputs": []
    },
    {
      "cell_type": "markdown",
      "source": [
        "Select relevant columns from dataframe\n"
      ],
      "metadata": {
        "id": "xULtXI_Ttc-p"
      }
    },
    {
      "cell_type": "code",
      "source": [
        "joinedData.columns = joinedData.columns.to_series().apply(lambda x: x.strip())\n",
        "joinedData = joinedData.loc[:, ['Player 1', 'Player 2', 'Pl 1 hand', 'Pl 2 hand', 'Tournament', 'Surface', 'Set1','Set2', 'Gm1', 'Gm2', 'Pts', 'Serving', '1st', '2nd', 'isAce', 'isUnret']]"
      ],
      "metadata": {
        "id": "sN8PyS4kgm14"
      },
      "execution_count": 7,
      "outputs": []
    },
    {
      "cell_type": "code",
      "source": [
        "joinedData['isAce'] = joinedData['isAce'] | joinedData['isUnret']\n",
        "joinedData = joinedData.drop(columns=['isUnret', 'isAce'])"
      ],
      "metadata": {
        "id": "aA_sj7nZtokO"
      },
      "execution_count": 8,
      "outputs": []
    },
    {
      "cell_type": "code",
      "source": [
        "tennis_players = ['Daniil Medvedev', 'Alexander Zverev', 'Roger Federer', 'Dominic Thiem', 'Nick Kyrgios', 'Novak Djokovic', 'Rafael Nadal', 'Stefanos Tsitsipas', 'Casper Ruud', 'Grigor Dimitrov']\n",
        "tennis_players_initials = [''.join([x[0].upper() for x in fullname.split(' ')]) for fullname in tennis_players]\n",
        "joinedData = joinedData.loc[((joinedData['Player 1'].isin(tennis_players)) | (joinedData['Player 2'].isin(tennis_players)))]\n",
        "joinedData = joinedData.loc[joinedData['Serving'].isin(tennis_players_initials)]"
      ],
      "metadata": {
        "id": "eq79PtXOSp3g"
      },
      "execution_count": 9,
      "outputs": []
    },
    {
      "cell_type": "code",
      "source": [
        "joinedData[['Pts1', 'Pts2']] = joinedData['Pts'].str.split('-', expand=True)\n",
        "joinedData = joinedData.drop('Pts', axis='columns')"
      ],
      "metadata": {
        "id": "MilCADR0ZmvI"
      },
      "execution_count": 10,
      "outputs": []
    },
    {
      "cell_type": "markdown",
      "source": [
        "Separate the columns into new columns that are specific for Server and Returner."
      ],
      "metadata": {
        "id": "efAg6B-yhpeh"
      }
    },
    {
      "cell_type": "code",
      "source": [
        "names = []\n",
        "pointsServer = []\n",
        "pointsReturner = []\n",
        "gamesServer = []\n",
        "gamesReturner = []\n",
        "setsServer = []\n",
        "setsReturner = []\n",
        "handReturner = []\n",
        "for index, row in joinedData.iterrows():\n",
        "    if ''.join([x[0].upper() for x in row['Player 1'].split(' ')]) == row['Serving']:\n",
        "      names.append(row['Player 1'])\n",
        "      pointsServer.append(row['Pts1'])\n",
        "      pointsReturner.append(row['Pts2'])\n",
        "      gamesServer.append(row['Gm1'])\n",
        "      gamesReturner.append(row['Gm2'])\n",
        "      setsServer.append(row['Set1'])\n",
        "      setsReturner.append(row['Set2'])\n",
        "      handReturner.append(row['Pl 2 hand'])\n",
        "    elif ''.join([x[0].upper() for x in row['Player 2'].split(' ')]) == row['Serving']:\n",
        "      names.append(row['Player 2'])\n",
        "      pointsServer.append(row['Pts2'])\n",
        "      pointsReturner.append(row['Pts1'])\n",
        "      gamesServer.append(row['Gm2'])\n",
        "      gamesReturner.append(row['Gm1'])\n",
        "      setsServer.append(row['Set2'])\n",
        "      setsReturner.append(row['Set1'])\n",
        "      handReturner.append(row['Pl 1 hand'])\n",
        "\n",
        "joinedData['FullNameServer'] = names\n",
        "joinedData['PointsServer'] = pointsServer\n",
        "joinedData['PointsReturner'] = pointsReturner\n",
        "joinedData['GamesServer'] = gamesServer\n",
        "joinedData['GamesReturner'] = gamesReturner\n",
        "joinedData['SetsServer'] = setsServer\n",
        "joinedData['SetsReturner'] = setsReturner\n",
        "joinedData['HandReturner'] = handReturner\n",
        "\n",
        "joinedData = joinedData.drop(columns=['Player 1', 'Player 2', 'Pts1', 'Pts2', 'Gm1', 'Gm2', 'Set1', 'Set2', 'Pl 1 hand', 'Pl 2 hand', 'Serving'])"
      ],
      "metadata": {
        "id": "VvCVdtA5dK09"
      },
      "execution_count": 11,
      "outputs": []
    },
    {
      "cell_type": "markdown",
      "source": [
        "Combine the serves into one column with a list of 1 or 2 serves so that it can be exploded into several rows later"
      ],
      "metadata": {
        "id": "uhLWe-BTiRtW"
      }
    },
    {
      "cell_type": "code",
      "source": [
        "joinedData['Serves'] = joinedData.apply(lambda x: list(['f' + str(x['1st']),\n",
        "                                                        's' + str(x['2nd'])]), axis=1)   "
      ],
      "metadata": {
        "id": "uDUEZvkUv6xV"
      },
      "execution_count": 12,
      "outputs": []
    },
    {
      "cell_type": "markdown",
      "source": [
        "Explode list of first and second serve into separate rows"
      ],
      "metadata": {
        "id": "513WgAufXHm3"
      }
    },
    {
      "cell_type": "code",
      "source": [
        "joinedData = joinedData.explode('Serves')"
      ],
      "metadata": {
        "id": "m868wutCXU9e"
      },
      "execution_count": 13,
      "outputs": []
    },
    {
      "cell_type": "markdown",
      "source": [
        "Add new column indicating whether the serve was first or second"
      ],
      "metadata": {
        "id": "mqiN00YKYBW-"
      }
    },
    {
      "cell_type": "code",
      "source": [
        "joinedData['IsFirstServe'] = joinedData['Serves'].str[0] == 'f'"
      ],
      "metadata": {
        "id": "7mJfOkIFYHtu"
      },
      "execution_count": 14,
      "outputs": []
    },
    {
      "cell_type": "markdown",
      "source": [
        "Remove 'f' and 's' (first and second serve) that were indicators before the explosion"
      ],
      "metadata": {
        "id": "on6335xYYh3J"
      }
    },
    {
      "cell_type": "code",
      "source": [
        "joinedData['Serves'] = joinedData['Serves'].str[1:]\n",
        "joinedData = joinedData[(joinedData['Serves'] != 'nan') & (joinedData['Serves'] != '')]\n",
        "joinedData = joinedData.drop(columns=['1st', '2nd'])"
      ],
      "metadata": {
        "id": "ihQjtZbiYn50"
      },
      "execution_count": 15,
      "outputs": []
    },
    {
      "cell_type": "markdown",
      "source": [
        "Remove lets"
      ],
      "metadata": {
        "id": "qIGcmgBEcSHn"
      }
    },
    {
      "cell_type": "code",
      "source": [
        "joinedData['Serves'] = joinedData['Serves'].map(lambda x: x.lstrip('c'))"
      ],
      "metadata": {
        "id": "jwYcK8R3cS_d"
      },
      "execution_count": 16,
      "outputs": []
    },
    {
      "cell_type": "code",
      "source": [
        "joinedData['FullNameServer'].value_counts()"
      ],
      "metadata": {
        "colab": {
          "base_uri": "https://localhost:8080/"
        },
        "id": "kGBaCH1eahcp",
        "outputId": "0440fc3e-5af0-4af7-a0b6-2a9cc324ab3b"
      },
      "execution_count": 17,
      "outputs": [
        {
          "output_type": "execute_result",
          "data": {
            "text/plain": [
              "Roger Federer         12724\n",
              "Novak Djokovic        12549\n",
              "Daniil Medvedev       12427\n",
              "Stefanos Tsitsipas    10837\n",
              "Rafael Nadal          10717\n",
              "Dominic Thiem         10051\n",
              "Alexander Zverev       8100\n",
              "Nick Kyrgios           7470\n",
              "Casper Ruud            5300\n",
              "Grigor Dimitrov        5101\n",
              "Name: FullNameServer, dtype: int64"
            ]
          },
          "metadata": {},
          "execution_count": 17
        }
      ]
    },
    {
      "cell_type": "markdown",
      "source": [
        "Extract direction of serve"
      ],
      "metadata": {
        "id": "85EE5FTadWT9"
      }
    },
    {
      "cell_type": "code",
      "source": [
        "def extract_serve_direction(row):\n",
        "  serves_directions_dict = {\n",
        "      '4': 'Out wide',\n",
        "      '5': 'Body',\n",
        "      '6': 'Down the T'\n",
        "  }\n",
        "\n",
        "  if len(row['Serves']) > 1 and row['Serves'][1] in ['x', 'd', 'w', 'n', 'g', '!', 'e']:\n",
        "      return \"Fault\"\n",
        "  else:\n",
        "      return serves_directions_dict.get(row['Serves'][0], 'Body')\n",
        "\n",
        "joinedData['Direction'] = joinedData.apply(extract_serve_direction, axis=1)\n",
        "joinedData = joinedData.drop(columns='Serves')"
      ],
      "metadata": {
        "id": "_P9fmn4pdYS9"
      },
      "execution_count": 18,
      "outputs": []
    },
    {
      "cell_type": "code",
      "source": [
        "joinedData.to_csv('wrangled-data.csv')"
      ],
      "metadata": {
        "id": "J5NmZELyEG5J"
      },
      "execution_count": 19,
      "outputs": []
    },
    {
      "cell_type": "markdown",
      "source": [
        "# Start of machine learning"
      ],
      "metadata": {
        "id": "q0o1Q_Ezj6eU"
      }
    },
    {
      "cell_type": "markdown",
      "source": [
        "### Data exploration"
      ],
      "metadata": {
        "id": "5aTS0JBc56jZ"
      }
    },
    {
      "cell_type": "code",
      "source": [
        "import seaborn as sns\n",
        "import matplotlib\n",
        "import matplotlib.pyplot as plt\n",
        "from sklearn.neighbors import KNeighborsClassifier\n",
        "from sklearn.model_selection import train_test_split"
      ],
      "metadata": {
        "id": "FLNBo3B52ScE"
      },
      "execution_count": 12,
      "outputs": []
    },
    {
      "cell_type": "code",
      "source": [
        "joinedData = pd.read_csv('./wrangled-data.csv')"
      ],
      "metadata": {
        "id": "NaRmM_57IILa"
      },
      "execution_count": 13,
      "outputs": []
    },
    {
      "cell_type": "code",
      "source": [
        "joinedData['Direction'].value_counts().plot(kind='bar')"
      ],
      "metadata": {
        "id": "LaW9CJ9zj_O2",
        "colab": {
          "base_uri": "https://localhost:8080/",
          "height": 329
        },
        "outputId": "fb64f77c-91dc-427f-ea8b-5d2021ced21f"
      },
      "execution_count": 14,
      "outputs": [
        {
          "output_type": "execute_result",
          "data": {
            "text/plain": [
              "<matplotlib.axes._subplots.AxesSubplot at 0x7f2e03759a00>"
            ]
          },
          "metadata": {},
          "execution_count": 14
        },
        {
          "output_type": "display_data",
          "data": {
            "text/plain": [
              "<Figure size 432x288 with 1 Axes>"
            ],
            "image/png": "[encoded data removed]"
          },
          "metadata": {
            "needs_background": "light"
          }
        }
      ]
    },
    {
      "cell_type": "code",
      "source": [
        "sns.countplot(\n",
        "    x = 'Direction',\n",
        "    hue = 'IsFirstServe',\n",
        "    data = joinedData,\n",
        ")"
      ],
      "metadata": {
        "colab": {
          "base_uri": "https://localhost:8080/",
          "height": 296
        },
        "id": "JJwm0_pl2QBr",
        "outputId": "d3bddd52-7519-4262-b1d5-d90e028b4511"
      },
      "execution_count": 15,
      "outputs": [
        {
          "output_type": "execute_result",
          "data": {
            "text/plain": [
              "<matplotlib.axes._subplots.AxesSubplot at 0x7f2e035aae50>"
            ]
          },
          "metadata": {},
          "execution_count": 15
        },
        {
          "output_type": "display_data",
          "data": {
            "text/plain": [
              "<Figure size 432x288 with 1 Axes>"
            ],
            "image/png": "[encoded data removed]"
          },
          "metadata": {
            "needs_background": "light"
          }
        }
      ]
    },
    {
      "cell_type": "markdown",
      "source": [
        "## Pre-processing"
      ],
      "metadata": {
        "id": "uxEpkcxm59kk"
      }
    },
    {
      "cell_type": "code",
      "source": [
        "X = joinedData.drop(columns=['Direction'])\n",
        "y = joinedData['Direction']"
      ],
      "metadata": {
        "id": "wkyJ5pn89c2A"
      },
      "execution_count": 16,
      "outputs": []
    },
    {
      "cell_type": "markdown",
      "source": [
        "### One hot encoding attributes"
      ],
      "metadata": {
        "id": "1Pgr1Sq99DV1"
      }
    },
    {
      "cell_type": "code",
      "source": [
        "from sklearn.compose import ColumnTransformer\n",
        "from sklearn.preprocessing import OneHotEncoder\n",
        "from sklearn.compose import make_column_transformer\n",
        "\n",
        "categorical_columns = ['Tournament', 'Surface', 'FullNameServer', 'PointsServer', 'PointsReturner', 'HandReturner']\n",
        "\n",
        "encoded_X = pd.get_dummies(X, columns=categorical_columns)"
      ],
      "metadata": {
        "id": "hwEpcfKU6BS8"
      },
      "execution_count": 17,
      "outputs": []
    },
    {
      "cell_type": "code",
      "source": [
        "encoded_X.to_csv('encoded_attributes.csv')"
      ],
      "metadata": {
        "id": "Cfw4mB9HH8ap"
      },
      "execution_count": 18,
      "outputs": []
    },
    {
      "cell_type": "markdown",
      "source": [
        "### Label encoding the label"
      ],
      "metadata": {
        "id": "Zf39MHbY_Dt0"
      }
    },
    {
      "cell_type": "code",
      "source": [
        "from sklearn.preprocessing import LabelEncoder\n",
        "le = LabelEncoder()\n",
        "y = le.fit_transform(y)"
      ],
      "metadata": {
        "id": "Dp-WHLlI_JcZ"
      },
      "execution_count": 19,
      "outputs": []
    },
    {
      "cell_type": "markdown",
      "source": [
        "### Splitting into train test"
      ],
      "metadata": {
        "id": "uh7RwfP_K5ZG"
      }
    },
    {
      "cell_type": "code",
      "source": [
        "X_train, X_test, y_train, y_test = train_test_split(encoded_X, y)"
      ],
      "metadata": {
        "id": "aOGSzJKJ1x1_"
      },
      "execution_count": 20,
      "outputs": []
    },
    {
      "cell_type": "markdown",
      "source": [
        "## KNN"
      ],
      "metadata": {
        "id": "xPgcXtuWHkuC"
      }
    },
    {
      "cell_type": "code",
      "source": [
        "def plot_knn_scores(ks):\n",
        "    train_scores = []\n",
        "    test_scores = []\n",
        "    \n",
        "    for k in ks:\n",
        "        clf = KNeighborsClassifier(n_neighbors=k).fit(X_train, y_train)\n",
        "\n",
        "        print('finding scores for ' + str(k) + ' k neares neighbours')\n",
        "\n",
        "        train_score = clf.score(X_train, y_train)\n",
        "        test_score = clf.score(X_test, y_test)              \n",
        "\n",
        "        print('found scores for ' + str(k) + ' k neares neighbours')\n",
        "\n",
        "        train_scores.append(train_score)\n",
        "        test_scores.append(test_score)\n",
        "\n",
        "    plt.figure(figsize=(10, 6))\n",
        "    plt.plot(ks, train_scores, color='blue', label='train score')\n",
        "    plt.plot(ks, test_scores, color='green', label='test score')\n",
        "    plt.legend()"
      ],
      "metadata": {
        "id": "HR5fd70tHnsz"
      },
      "execution_count": 30,
      "outputs": []
    },
    {
      "cell_type": "code",
      "source": [
        "plot_knn_scores(range(1, 13, 2))"
      ],
      "metadata": {
        "colab": {
          "base_uri": "https://localhost:8080/",
          "height": 582
        },
        "id": "SWatHJCQJMRR",
        "outputId": "2777ae5b-02ac-4ab9-99db-e1871518a009"
      },
      "execution_count": 31,
      "outputs": [
        {
          "output_type": "stream",
          "name": "stdout",
          "text": [
            "finding scores for 1 k neares neighbours\n",
            "found scores for 1 k neares neighbours\n",
            "finding scores for 3 k neares neighbours\n",
            "found scores for 3 k neares neighbours\n",
            "finding scores for 5 k neares neighbours\n",
            "found scores for 5 k neares neighbours\n",
            "finding scores for 7 k neares neighbours\n",
            "found scores for 7 k neares neighbours\n",
            "finding scores for 9 k neares neighbours\n",
            "found scores for 9 k neares neighbours\n",
            "finding scores for 11 k neares neighbours\n",
            "found scores for 11 k neares neighbours\n"
          ]
        },
        {
          "output_type": "display_data",
          "data": {
            "text/plain": [
              "<Figure size 720x432 with 1 Axes>"
            ],
            "image/png": "[encoded data removed]"
          },
          "metadata": {
            "needs_background": "light"
          }
        }
      ]
    },
    {
      "cell_type": "markdown",
      "source": [
        "## Logistic regression"
      ],
      "metadata": {
        "id": "HjOMWTlqJ_x2"
      }
    },
    {
      "cell_type": "code",
      "source": [
        "from sklearn.linear_model import LogisticRegression\n",
        "\n",
        "def plot_logistic_regression_scores(cs):\n",
        "    train_scores = []\n",
        "    test_scores = []\n",
        "    \n",
        "    for c in cs:\n",
        "        regression = LogisticRegression(C=c, random_state=42).fit(X_train, y_train)\n",
        "\n",
        "        print(f'finding scores for c={c}')\n",
        "\n",
        "        train_score = regression.score(X_train, y_train)\n",
        "        test_score = regression.score(X_test, y_test)              \n",
        "\n",
        "        print(f'found train score for c={c}: {train_score}')\n",
        "\n",
        "        train_scores.append(train_score)\n",
        "        test_scores.append(test_score)\n",
        "\n",
        "    plt.figure(figsize=(10, 6))\n",
        "    plt.plot(cs, train_scores, color='blue', label='train score')\n",
        "    plt.plot(cs, test_scores, color='green', label='test score')\n",
        "    plt.legend()"
      ],
      "metadata": {
        "id": "F6lClUBgKD5O"
      },
      "execution_count": 29,
      "outputs": []
    },
    {
      "cell_type": "code",
      "source": [
        "plot_logistic_regression_scores([0.001, 0.01, 0.1, 1, 10, 1000, 10000])"
      ],
      "metadata": {
        "colab": {
          "base_uri": "https://localhost:8080/",
          "height": 617
        },
        "id": "nbMouCuJLekH",
        "outputId": "3606ca3d-21d0-495f-cf0b-9a1ebbbe302f"
      },
      "execution_count": 30,
      "outputs": [
        {
          "output_type": "stream",
          "name": "stdout",
          "text": [
            "finding scores for c=0.001\n",
            "found train score for c=0.001: 0.31241166015925664\n",
            "finding scores for c=0.01\n",
            "found train score for c=0.01: 0.31241166015925664\n",
            "finding scores for c=0.1\n",
            "found train score for c=0.1: 0.31241166015925664\n",
            "finding scores for c=1\n",
            "found train score for c=1: 0.31241166015925664\n",
            "finding scores for c=10\n",
            "found train score for c=10: 0.31241166015925664\n",
            "finding scores for c=1000\n",
            "found train score for c=1000: 0.31241166015925664\n",
            "finding scores for c=10000\n",
            "found train score for c=10000: 0.31241166015925664\n"
          ]
        },
        {
          "output_type": "display_data",
          "data": {
            "text/plain": [
              "<Figure size 720x432 with 1 Axes>"
            ],
            "image/png": "[encoded data removed]"
          },
          "metadata": {
            "needs_background": "light"
          }
        }
      ]
    },
    {
      "cell_type": "code",
      "source": [
        "pd.set_option('display.max_rows', 500)\n",
        "joinedData.head(500)"
      ],
      "metadata": {
        "id": "ikAGIOjfXyyq"
      },
      "execution_count": null,
      "outputs": []
    }
  ]
}