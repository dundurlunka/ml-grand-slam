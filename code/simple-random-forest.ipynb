{
 "cells": [
  {
   "cell_type": "code",
   "execution_count": 32,
   "metadata": {},
   "outputs": [],
   "source": [
    "# Data Processing\n",
    "import pandas as pd\n",
    "import numpy as np\n",
    "\n",
    "# Modelling\n",
    "from sklearn.ensemble import RandomForestClassifier\n",
    "from sklearn.metrics import accuracy_score, confusion_matrix, precision_score, recall_score, ConfusionMatrixDisplay\n",
    "from sklearn.model_selection import RandomizedSearchCV, train_test_split\n",
    "from sklearn.preprocessing import LabelEncoder\n",
    "from sklearn.dummy import DummyClassifier\n",
    "from scipy.stats import randint\n",
    "\n",
    "# Tree Visualisation\n",
    "from sklearn.tree import export_graphviz\n",
    "from IPython.display import Image\n",
    "import pygraphviz"
   ]
  },
  {
   "cell_type": "code",
   "execution_count": 33,
   "metadata": {},
   "outputs": [],
   "source": [
    "df = pd.read_csv('../data/exploded-serves.csv')\n",
    "df = df[df['Direction'] != 'Fault']"
   ]
  },
  {
   "cell_type": "code",
   "execution_count": 34,
   "metadata": {},
   "outputs": [
    {
     "name": "stdout",
     "output_type": "stream",
     "text": [
      "0        0\n",
      "1        0\n",
      "2        0\n",
      "3        0\n",
      "4        0\n",
      "        ..\n",
      "65639    3\n",
      "65640    3\n",
      "65641    3\n",
      "65642    3\n",
      "65643    3\n",
      "Name: GamesReturner, Length: 65644, dtype: int64\n"
     ]
    }
   ],
   "source": [
    "X = df.reset_index(drop=True).drop(columns=['Direction', 'Unnamed: 0'])\n",
    "print(X['GamesReturner'])\n",
    "y = df['Direction']"
   ]
  },
  {
   "cell_type": "markdown",
   "metadata": {},
   "source": [
    "#### Encode X"
   ]
  },
  {
   "cell_type": "code",
   "execution_count": 35,
   "metadata": {},
   "outputs": [
    {
     "name": "stdout",
     "output_type": "stream",
     "text": [
      "['Surface', 'FullNameServer', 'HandReturner', 'previous_directions0', 'previous_directions1', 'previous_directions2', 'previous_directions3', 'previous_directions4']\n"
     ]
    }
   ],
   "source": [
    "categorical_columns = ['Surface', 'FullNameServer', 'HandReturner'] + [word for word in X.columns if word.startswith('previous_directions')]\n",
    "print(categorical_columns)"
   ]
  },
  {
   "cell_type": "code",
   "execution_count": 36,
   "metadata": {},
   "outputs": [],
   "source": [
    "X = pd.get_dummies(X, columns=categorical_columns, drop_first=True, dtype='bool')"
   ]
  },
  {
   "cell_type": "code",
   "execution_count": 37,
   "metadata": {},
   "outputs": [],
   "source": [
    "dict_for_replacing = {\n",
    "    '0': 0,\n",
    "    '15': 1,\n",
    "    '30': 2,\n",
    "    '40': 3,\n",
    "    'AD': 4,\n",
    "    '1': 1,\n",
    "    '2': 2,\n",
    "    '3': 3,\n",
    "    '4': 4,\n",
    "    '5': 5,\n",
    "    '6': 6,\n",
    "    '7': 7,\n",
    "    '8': 8,\n",
    "    '9': 9,\n",
    "    '10': 10,\n",
    "    '11': 11,\n",
    "    '12': 12,\n",
    "    '13': 13,\n",
    "    '14': 14,\n",
    "    '15': 15\n",
    "}\n",
    "\n",
    "X['PointsReturner'] = X['PointsReturner'].replace(to_replace=dict_for_replacing)\n",
    "X['PointsServer'] = X['PointsServer'].replace(to_replace=dict_for_replacing)"
   ]
  },
  {
   "cell_type": "markdown",
   "metadata": {},
   "source": [
    "#### Encode Y"
   ]
  },
  {
   "cell_type": "code",
   "execution_count": 38,
   "metadata": {},
   "outputs": [],
   "source": [
    "label_encoder = LabelEncoder()\n",
    "encoded_y = label_encoder.fit_transform(y)"
   ]
  },
  {
   "cell_type": "markdown",
   "metadata": {},
   "source": [
    "## Model"
   ]
  },
  {
   "cell_type": "code",
   "execution_count": 53,
   "metadata": {},
   "outputs": [
    {
     "data": {
      "text/plain": [
       "PointsServer                         int64\n",
       "PointsReturner                       int64\n",
       "GamesServer                          int64\n",
       "GamesReturner                        int64\n",
       "SetsServer                           int64\n",
       "SetsReturner                         int64\n",
       "IsFirstServe                          bool\n",
       "previous_point_server_wins0          int64\n",
       "previous_point_server_wins1          int64\n",
       "previous_point_server_wins2          int64\n",
       "previous_point_server_wins3          int64\n",
       "previous_point_server_wins4          int64\n",
       "previous_rally_length0               int64\n",
       "previous_rally_length1               int64\n",
       "previous_rally_length2               int64\n",
       "previous_rally_length3               int64\n",
       "previous_rally_length4               int64\n",
       "previous_serve_is_first0              bool\n",
       "previous_serve_is_first1              bool\n",
       "previous_serve_is_first2              bool\n",
       "previous_serve_is_first3              bool\n",
       "previous_serve_is_first4              bool\n",
       "Surface_Clay                          bool\n",
       "Surface_Grass                         bool\n",
       "Surface_Hard                          bool\n",
       "Surface_Hard Indoor                   bool\n",
       "Surface_Indoor                        bool\n",
       "FullNameServer_Casper Ruud            bool\n",
       "FullNameServer_Daniil Medvedev        bool\n",
       "FullNameServer_Dominic Thiem          bool\n",
       "FullNameServer_Grigor Dimitrov        bool\n",
       "FullNameServer_Nick Kyrgios           bool\n",
       "FullNameServer_Novak Djokovic         bool\n",
       "FullNameServer_Rafael Nadal           bool\n",
       "FullNameServer_Roger Federer          bool\n",
       "FullNameServer_Stefanos Tsitsipas     bool\n",
       "HandReturner_R                        bool\n",
       "previous_directions0_Down the T       bool\n",
       "previous_directions0_Fault            bool\n",
       "previous_directions0_Out wide         bool\n",
       "previous_directions1_Down the T       bool\n",
       "previous_directions1_Fault            bool\n",
       "previous_directions1_Out wide         bool\n",
       "previous_directions2_Down the T       bool\n",
       "previous_directions2_Fault            bool\n",
       "previous_directions2_Out wide         bool\n",
       "previous_directions3_Down the T       bool\n",
       "previous_directions3_Fault            bool\n",
       "previous_directions3_Out wide         bool\n",
       "previous_directions4_Down the T       bool\n",
       "previous_directions4_Fault            bool\n",
       "previous_directions4_Out wide         bool\n",
       "dtype: object"
      ]
     },
     "metadata": {},
     "output_type": "display_data"
    }
   ],
   "source": [
    "display(X.dtypes)"
   ]
  },
  {
   "cell_type": "code",
   "execution_count": 51,
   "metadata": {},
   "outputs": [
    {
     "name": "stdout",
     "output_type": "stream",
     "text": [
      "Accuracy test: 0.4302688704394851\n",
      "Accuracy train: 0.43359040274207367\n"
     ]
    }
   ],
   "source": [
    "X_train, X_test, y_train, y_test = train_test_split(X, encoded_y, test_size=0.2)\n",
    "simple_rf = RandomForestClassifier(max_depth=1, max_features=5, n_estimators=1200)\n",
    "simple_rf.fit(X_train, y_train)\n",
    "y_pred = simple_rf.predict(X_test)\n",
    "y_train_pred = simple_rf.predict(X_train)\n",
    "\n",
    "test_accuracy = accuracy_score(y_test, y_pred)\n",
    "print(\"Accuracy test:\", test_accuracy)\n",
    "\n",
    "train_accuracy = accuracy_score(y_train, y_train_pred)\n",
    "print(\"Accuracy train:\", train_accuracy)"
   ]
  },
  {
   "cell_type": "code",
   "execution_count": 50,
   "metadata": {},
   "outputs": [],
   "source": [
    "# Export the first three decision trees from the forest\n",
    "\n",
    "for i in range(3):\n",
    "    tree = simple_rf.estimators_[i]\n",
    "    dotfile = open(f\"../dtree{i}.dot\", 'w')\n",
    "    dot_data = export_graphviz(tree,\n",
    "                               feature_names=X_train.columns,  \n",
    "                               filled=True,                                 \n",
    "                               impurity=False, \n",
    "                               proportion=True,\n",
    "                               out_file=dotfile)\n",
    "    dotfile.close()    "
   ]
  },
  {
   "cell_type": "code",
   "execution_count": 41,
   "metadata": {},
   "outputs": [
    {
     "name": "stdout",
     "output_type": "stream",
     "text": [
      "0.4329260861617208\n"
     ]
    }
   ],
   "source": [
    "dummy_clf = DummyClassifier(strategy=\"most_frequent\")\n",
    "dummy_clf.fit(X, encoded_y)\n",
    "dummy_clf.predict(X)\n",
    "print(dummy_clf.score(X, encoded_y))"
   ]
  },
  {
   "cell_type": "code",
   "execution_count": 42,
   "metadata": {},
   "outputs": [
    {
     "name": "stdout",
     "output_type": "stream",
     "text": [
      "Best hyperparameters: {'max_depth': 14, 'max_features': 9, 'n_estimators': 931}\n",
      "Accuracy test: 0.4768070683220352\n"
     ]
    }
   ],
   "source": [
    "param_dist = {'n_estimators': randint(150,1000),\n",
    "              'max_depth': randint(1,20),\n",
    "              'max_features': randint(5,10)}\n",
    "\n",
    "# Create a random forest classifier\n",
    "rf = RandomForestClassifier()\n",
    "\n",
    "# Use random search to find the best hyperparameters\n",
    "rand_search = RandomizedSearchCV(rf, \n",
    "                                 param_distributions = param_dist, \n",
    "                                 n_iter=15, \n",
    "                                 cv=10)\n",
    "\n",
    "rand_search.fit(X_train, y_train)\n",
    "best_rf = rand_search.best_estimator_\n",
    "\n",
    "# Print the best hyperparameters\n",
    "print('Best hyperparameters:',  rand_search.best_params_)\n",
    "\n",
    "y_pred = best_rf.predict(X_test)\n",
    "test_accuracy = accuracy_score(y_test, y_pred)\n",
    "print(\"Accuracy test:\", test_accuracy)"
   ]
  },
  {
   "cell_type": "code",
   "execution_count": 44,
   "metadata": {},
   "outputs": [
    {
     "name": "stdout",
     "output_type": "stream",
     "text": [
      "Accuracy train: 0.8418356660001904\n"
     ]
    }
   ],
   "source": [
    "y_pred_train = best_rf.predict(X_train)\n",
    "train_accuracy = accuracy_score(y_train, y_pred_train)\n",
    "print(\"Accuracy train:\", train_accuracy)"
   ]
  }
 ],
 "metadata": {
  "kernelspec": {
   "display_name": "tennis-ai",
   "language": "python",
   "name": "python3"
  },
  "language_info": {
   "codemirror_mode": {
    "name": "ipython",
    "version": 3
   },
   "file_extension": ".py",
   "mimetype": "text/x-python",
   "name": "python",
   "nbconvert_exporter": "python",
   "pygments_lexer": "ipython3",
   "version": "3.11.7"
  }
 },
 "nbformat": 4,
 "nbformat_minor": 2
}
