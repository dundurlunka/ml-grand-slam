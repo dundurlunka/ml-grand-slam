{
 "cells": [
  {
   "cell_type": "code",
   "execution_count": 1,
   "metadata": {},
   "outputs": [],
   "source": [
    "import pandas as pd\n",
    "import numpy as np\n",
    "\n",
    "import sys\n",
    "import csv"
   ]
  },
  {
   "cell_type": "code",
   "execution_count": 2,
   "metadata": {},
   "outputs": [
    {
     "name": "stderr",
     "output_type": "stream",
     "text": [
      "C:\\Users\\daniel.georgiev\\AppData\\Local\\Temp\\ipykernel_19628\\15952938.py:1: DtypeWarning: Columns (8,9,29) have mixed types. Specify dtype option on import or set low_memory=False.\n",
      "  points = pd.read_csv('../data/charting-m-points-from-2017.csv', quoting=csv.QUOTE_NONE, encoding = 'ISO-8859-1')\n"
     ]
    }
   ],
   "source": [
    "points = pd.read_csv('../data/charting-m-points-from-2017.csv', quoting=csv.QUOTE_NONE, encoding = 'ISO-8859-1')\n",
    "matches = pd.read_csv('../data/charting-m-matches.csv', quoting=csv.QUOTE_NONE, encoding = 'ISO-8859-1')"
   ]
  },
  {
   "cell_type": "markdown",
   "metadata": {},
   "source": [
    "Merge the two datasets together by match_id"
   ]
  },
  {
   "cell_type": "code",
   "execution_count": 3,
   "metadata": {},
   "outputs": [],
   "source": [
    "joinedData = pd.merge(\n",
    "    matches,\n",
    "    points,\n",
    "    how=\"inner\",\n",
    "    on='match_id',\n",
    ")"
   ]
  },
  {
   "cell_type": "code",
   "execution_count": 4,
   "metadata": {},
   "outputs": [],
   "source": [
    "joinedData['rallyCount'] = pd.to_numeric(joinedData['rallyCount'], errors='coerce', downcast='integer').fillna(0).astype(int)\n",
    "df_obj = joinedData.select_dtypes(['object'])\n",
    "joinedData[df_obj.columns] = df_obj.apply(lambda x: x.str.strip())"
   ]
  },
  {
   "cell_type": "markdown",
   "metadata": {},
   "source": [
    "Select relevant columns from dataframe\n"
   ]
  },
  {
   "cell_type": "code",
   "execution_count": 5,
   "metadata": {},
   "outputs": [
    {
     "data": {
      "text/html": [
       "<div>\n",
       "<style scoped>\n",
       "    .dataframe tbody tr th:only-of-type {\n",
       "        vertical-align: middle;\n",
       "    }\n",
       "\n",
       "    .dataframe tbody tr th {\n",
       "        vertical-align: top;\n",
       "    }\n",
       "\n",
       "    .dataframe thead th {\n",
       "        text-align: right;\n",
       "    }\n",
       "</style>\n",
       "<table border=\"1\" class=\"dataframe\">\n",
       "  <thead>\n",
       "    <tr style=\"text-align: right;\">\n",
       "      <th></th>\n",
       "      <th>match_id</th>\n",
       "      <th>Player 1</th>\n",
       "      <th>Player 2</th>\n",
       "      <th>Pl 1 hand</th>\n",
       "      <th>Pl 2 hand</th>\n",
       "      <th>Gender</th>\n",
       "      <th>Date</th>\n",
       "      <th>Tournament</th>\n",
       "      <th>Round</th>\n",
       "      <th>Time</th>\n",
       "      <th>...</th>\n",
       "      <th>2ndIn</th>\n",
       "      <th>isAce</th>\n",
       "      <th>isUnret</th>\n",
       "      <th>isRallyWinner</th>\n",
       "      <th>isForced</th>\n",
       "      <th>isUnforced</th>\n",
       "      <th>isDouble</th>\n",
       "      <th>PtWinner</th>\n",
       "      <th>isSvrWinner</th>\n",
       "      <th>rallyCount</th>\n",
       "    </tr>\n",
       "  </thead>\n",
       "  <tbody>\n",
       "    <tr>\n",
       "      <th>0</th>\n",
       "      <td>20221123-M-Davis_Cup_Finals-QF-Marin_Cilic-Pab...</td>\n",
       "      <td>Marin Cilic</td>\n",
       "      <td>Pablo Carreno Busta</td>\n",
       "      <td>R</td>\n",
       "      <td>R</td>\n",
       "      <td>M</td>\n",
       "      <td>20221123</td>\n",
       "      <td>Davis Cup Finals</td>\n",
       "      <td>QF</td>\n",
       "      <td>18:35</td>\n",
       "      <td>...</td>\n",
       "      <td>0.0</td>\n",
       "      <td>False</td>\n",
       "      <td>False</td>\n",
       "      <td>False</td>\n",
       "      <td>False</td>\n",
       "      <td>False</td>\n",
       "      <td>True</td>\n",
       "      <td>2</td>\n",
       "      <td>0</td>\n",
       "      <td>0</td>\n",
       "    </tr>\n",
       "    <tr>\n",
       "      <th>1</th>\n",
       "      <td>20221123-M-Davis_Cup_Finals-QF-Marin_Cilic-Pab...</td>\n",
       "      <td>Marin Cilic</td>\n",
       "      <td>Pablo Carreno Busta</td>\n",
       "      <td>R</td>\n",
       "      <td>R</td>\n",
       "      <td>M</td>\n",
       "      <td>20221123</td>\n",
       "      <td>Davis Cup Finals</td>\n",
       "      <td>QF</td>\n",
       "      <td>18:35</td>\n",
       "      <td>...</td>\n",
       "      <td>NaN</td>\n",
       "      <td>False</td>\n",
       "      <td>True</td>\n",
       "      <td>False</td>\n",
       "      <td>False</td>\n",
       "      <td>False</td>\n",
       "      <td>False</td>\n",
       "      <td>1</td>\n",
       "      <td>1</td>\n",
       "      <td>1</td>\n",
       "    </tr>\n",
       "    <tr>\n",
       "      <th>2</th>\n",
       "      <td>20221123-M-Davis_Cup_Finals-QF-Marin_Cilic-Pab...</td>\n",
       "      <td>Marin Cilic</td>\n",
       "      <td>Pablo Carreno Busta</td>\n",
       "      <td>R</td>\n",
       "      <td>R</td>\n",
       "      <td>M</td>\n",
       "      <td>20221123</td>\n",
       "      <td>Davis Cup Finals</td>\n",
       "      <td>QF</td>\n",
       "      <td>18:35</td>\n",
       "      <td>...</td>\n",
       "      <td>1.0</td>\n",
       "      <td>False</td>\n",
       "      <td>False</td>\n",
       "      <td>False</td>\n",
       "      <td>True</td>\n",
       "      <td>False</td>\n",
       "      <td>False</td>\n",
       "      <td>2</td>\n",
       "      <td>0</td>\n",
       "      <td>2</td>\n",
       "    </tr>\n",
       "    <tr>\n",
       "      <th>3</th>\n",
       "      <td>20221123-M-Davis_Cup_Finals-QF-Marin_Cilic-Pab...</td>\n",
       "      <td>Marin Cilic</td>\n",
       "      <td>Pablo Carreno Busta</td>\n",
       "      <td>R</td>\n",
       "      <td>R</td>\n",
       "      <td>M</td>\n",
       "      <td>20221123</td>\n",
       "      <td>Davis Cup Finals</td>\n",
       "      <td>QF</td>\n",
       "      <td>18:35</td>\n",
       "      <td>...</td>\n",
       "      <td>NaN</td>\n",
       "      <td>False</td>\n",
       "      <td>False</td>\n",
       "      <td>False</td>\n",
       "      <td>True</td>\n",
       "      <td>False</td>\n",
       "      <td>False</td>\n",
       "      <td>1</td>\n",
       "      <td>1</td>\n",
       "      <td>1</td>\n",
       "    </tr>\n",
       "    <tr>\n",
       "      <th>4</th>\n",
       "      <td>20221123-M-Davis_Cup_Finals-QF-Marin_Cilic-Pab...</td>\n",
       "      <td>Marin Cilic</td>\n",
       "      <td>Pablo Carreno Busta</td>\n",
       "      <td>R</td>\n",
       "      <td>R</td>\n",
       "      <td>M</td>\n",
       "      <td>20221123</td>\n",
       "      <td>Davis Cup Finals</td>\n",
       "      <td>QF</td>\n",
       "      <td>18:35</td>\n",
       "      <td>...</td>\n",
       "      <td>NaN</td>\n",
       "      <td>False</td>\n",
       "      <td>True</td>\n",
       "      <td>False</td>\n",
       "      <td>False</td>\n",
       "      <td>False</td>\n",
       "      <td>False</td>\n",
       "      <td>1</td>\n",
       "      <td>1</td>\n",
       "      <td>1</td>\n",
       "    </tr>\n",
       "    <tr>\n",
       "      <th>...</th>\n",
       "      <td>...</td>\n",
       "      <td>...</td>\n",
       "      <td>...</td>\n",
       "      <td>...</td>\n",
       "      <td>...</td>\n",
       "      <td>...</td>\n",
       "      <td>...</td>\n",
       "      <td>...</td>\n",
       "      <td>...</td>\n",
       "      <td>...</td>\n",
       "      <td>...</td>\n",
       "      <td>...</td>\n",
       "      <td>...</td>\n",
       "      <td>...</td>\n",
       "      <td>...</td>\n",
       "      <td>...</td>\n",
       "      <td>...</td>\n",
       "      <td>...</td>\n",
       "      <td>...</td>\n",
       "      <td>...</td>\n",
       "      <td>...</td>\n",
       "    </tr>\n",
       "    <tr>\n",
       "      <th>295670</th>\n",
       "      <td>20170102-M-Doha-R32-Vasek_Pospisil-Fernando_Ve...</td>\n",
       "      <td>Vasek Pospisil</td>\n",
       "      <td>Fernando Verdasco</td>\n",
       "      <td>R</td>\n",
       "      <td>L</td>\n",
       "      <td>M</td>\n",
       "      <td>20170102</td>\n",
       "      <td>Doha</td>\n",
       "      <td>R32</td>\n",
       "      <td>22:25</td>\n",
       "      <td>...</td>\n",
       "      <td>NaN</td>\n",
       "      <td>False</td>\n",
       "      <td>False</td>\n",
       "      <td>True</td>\n",
       "      <td>False</td>\n",
       "      <td>False</td>\n",
       "      <td>False</td>\n",
       "      <td>1</td>\n",
       "      <td>0</td>\n",
       "      <td>6</td>\n",
       "    </tr>\n",
       "    <tr>\n",
       "      <th>295671</th>\n",
       "      <td>20170102-M-Doha-R32-Vasek_Pospisil-Fernando_Ve...</td>\n",
       "      <td>Vasek Pospisil</td>\n",
       "      <td>Fernando Verdasco</td>\n",
       "      <td>R</td>\n",
       "      <td>L</td>\n",
       "      <td>M</td>\n",
       "      <td>20170102</td>\n",
       "      <td>Doha</td>\n",
       "      <td>R32</td>\n",
       "      <td>22:25</td>\n",
       "      <td>...</td>\n",
       "      <td>1.0</td>\n",
       "      <td>False</td>\n",
       "      <td>False</td>\n",
       "      <td>False</td>\n",
       "      <td>False</td>\n",
       "      <td>True</td>\n",
       "      <td>False</td>\n",
       "      <td>2</td>\n",
       "      <td>1</td>\n",
       "      <td>3</td>\n",
       "    </tr>\n",
       "    <tr>\n",
       "      <th>295672</th>\n",
       "      <td>20170102-M-Doha-R32-Vasek_Pospisil-Fernando_Ve...</td>\n",
       "      <td>Vasek Pospisil</td>\n",
       "      <td>Fernando Verdasco</td>\n",
       "      <td>R</td>\n",
       "      <td>L</td>\n",
       "      <td>M</td>\n",
       "      <td>20170102</td>\n",
       "      <td>Doha</td>\n",
       "      <td>R32</td>\n",
       "      <td>22:25</td>\n",
       "      <td>...</td>\n",
       "      <td>0.0</td>\n",
       "      <td>False</td>\n",
       "      <td>False</td>\n",
       "      <td>False</td>\n",
       "      <td>False</td>\n",
       "      <td>False</td>\n",
       "      <td>True</td>\n",
       "      <td>1</td>\n",
       "      <td>0</td>\n",
       "      <td>0</td>\n",
       "    </tr>\n",
       "    <tr>\n",
       "      <th>295673</th>\n",
       "      <td>20170102-M-Doha-R32-Vasek_Pospisil-Fernando_Ve...</td>\n",
       "      <td>Vasek Pospisil</td>\n",
       "      <td>Fernando Verdasco</td>\n",
       "      <td>R</td>\n",
       "      <td>L</td>\n",
       "      <td>M</td>\n",
       "      <td>20170102</td>\n",
       "      <td>Doha</td>\n",
       "      <td>R32</td>\n",
       "      <td>22:25</td>\n",
       "      <td>...</td>\n",
       "      <td>NaN</td>\n",
       "      <td>False</td>\n",
       "      <td>False</td>\n",
       "      <td>False</td>\n",
       "      <td>True</td>\n",
       "      <td>False</td>\n",
       "      <td>False</td>\n",
       "      <td>2</td>\n",
       "      <td>1</td>\n",
       "      <td>3</td>\n",
       "    </tr>\n",
       "    <tr>\n",
       "      <th>295674</th>\n",
       "      <td>20170102-M-Doha-R32-Vasek_Pospisil-Fernando_Ve...</td>\n",
       "      <td>Vasek Pospisil</td>\n",
       "      <td>Fernando Verdasco</td>\n",
       "      <td>R</td>\n",
       "      <td>L</td>\n",
       "      <td>M</td>\n",
       "      <td>20170102</td>\n",
       "      <td>Doha</td>\n",
       "      <td>R32</td>\n",
       "      <td>22:25</td>\n",
       "      <td>...</td>\n",
       "      <td>NaN</td>\n",
       "      <td>False</td>\n",
       "      <td>False</td>\n",
       "      <td>False</td>\n",
       "      <td>True</td>\n",
       "      <td>False</td>\n",
       "      <td>False</td>\n",
       "      <td>2</td>\n",
       "      <td>1</td>\n",
       "      <td>1</td>\n",
       "    </tr>\n",
       "  </tbody>\n",
       "</table>\n",
       "<p>295675 rows × 45 columns</p>\n",
       "</div>"
      ],
      "text/plain": [
       "                                                 match_id        Player 1  \\\n",
       "0       20221123-M-Davis_Cup_Finals-QF-Marin_Cilic-Pab...     Marin Cilic   \n",
       "1       20221123-M-Davis_Cup_Finals-QF-Marin_Cilic-Pab...     Marin Cilic   \n",
       "2       20221123-M-Davis_Cup_Finals-QF-Marin_Cilic-Pab...     Marin Cilic   \n",
       "3       20221123-M-Davis_Cup_Finals-QF-Marin_Cilic-Pab...     Marin Cilic   \n",
       "4       20221123-M-Davis_Cup_Finals-QF-Marin_Cilic-Pab...     Marin Cilic   \n",
       "...                                                   ...             ...   \n",
       "295670  20170102-M-Doha-R32-Vasek_Pospisil-Fernando_Ve...  Vasek Pospisil   \n",
       "295671  20170102-M-Doha-R32-Vasek_Pospisil-Fernando_Ve...  Vasek Pospisil   \n",
       "295672  20170102-M-Doha-R32-Vasek_Pospisil-Fernando_Ve...  Vasek Pospisil   \n",
       "295673  20170102-M-Doha-R32-Vasek_Pospisil-Fernando_Ve...  Vasek Pospisil   \n",
       "295674  20170102-M-Doha-R32-Vasek_Pospisil-Fernando_Ve...  Vasek Pospisil   \n",
       "\n",
       "                   Player 2 Pl 1 hand Pl 2 hand Gender      Date  \\\n",
       "0       Pablo Carreno Busta         R         R      M  20221123   \n",
       "1       Pablo Carreno Busta         R         R      M  20221123   \n",
       "2       Pablo Carreno Busta         R         R      M  20221123   \n",
       "3       Pablo Carreno Busta         R         R      M  20221123   \n",
       "4       Pablo Carreno Busta         R         R      M  20221123   \n",
       "...                     ...       ...       ...    ...       ...   \n",
       "295670    Fernando Verdasco         R         L      M  20170102   \n",
       "295671    Fernando Verdasco         R         L      M  20170102   \n",
       "295672    Fernando Verdasco         R         L      M  20170102   \n",
       "295673    Fernando Verdasco         R         L      M  20170102   \n",
       "295674    Fernando Verdasco         R         L      M  20170102   \n",
       "\n",
       "              Tournament Round   Time  ... 2ndIn  isAce isUnret  \\\n",
       "0       Davis Cup Finals    QF  18:35  ...   0.0  False   False   \n",
       "1       Davis Cup Finals    QF  18:35  ...   NaN  False    True   \n",
       "2       Davis Cup Finals    QF  18:35  ...   1.0  False   False   \n",
       "3       Davis Cup Finals    QF  18:35  ...   NaN  False   False   \n",
       "4       Davis Cup Finals    QF  18:35  ...   NaN  False    True   \n",
       "...                  ...   ...    ...  ...   ...    ...     ...   \n",
       "295670              Doha   R32  22:25  ...   NaN  False   False   \n",
       "295671              Doha   R32  22:25  ...   1.0  False   False   \n",
       "295672              Doha   R32  22:25  ...   0.0  False   False   \n",
       "295673              Doha   R32  22:25  ...   NaN  False   False   \n",
       "295674              Doha   R32  22:25  ...   NaN  False   False   \n",
       "\n",
       "        isRallyWinner isForced isUnforced  isDouble  PtWinner  isSvrWinner  \\\n",
       "0               False    False      False      True         2            0   \n",
       "1               False    False      False     False         1            1   \n",
       "2               False     True      False     False         2            0   \n",
       "3               False     True      False     False         1            1   \n",
       "4               False    False      False     False         1            1   \n",
       "...               ...      ...        ...       ...       ...          ...   \n",
       "295670           True    False      False     False         1            0   \n",
       "295671          False    False       True     False         2            1   \n",
       "295672          False    False      False      True         1            0   \n",
       "295673          False     True      False     False         2            1   \n",
       "295674          False     True      False     False         2            1   \n",
       "\n",
       "        rallyCount  \n",
       "0                0  \n",
       "1                1  \n",
       "2                2  \n",
       "3                1  \n",
       "4                1  \n",
       "...            ...  \n",
       "295670           6  \n",
       "295671           3  \n",
       "295672           0  \n",
       "295673           3  \n",
       "295674           1  \n",
       "\n",
       "[295675 rows x 45 columns]"
      ]
     },
     "metadata": {},
     "output_type": "display_data"
    }
   ],
   "source": [
    "joinedData.columns = joinedData.columns.to_series().apply(lambda x: x.strip())\n",
    "display(joinedData)\n",
    "joinedData = joinedData.loc[:, ['match_id', 'Player 1', 'Player 2', 'Pl 1 hand', 'Pl 2 hand', 'Surface', 'Set1','Set2', 'Gm1', 'Gm2', 'Pts', 'Serving', '1st', '2nd', 'isAce', 'isUnret', 'isSvrWinner', 'rallyCount']]"
   ]
  },
  {
   "cell_type": "code",
   "execution_count": 6,
   "metadata": {},
   "outputs": [],
   "source": [
    "joinedData['isAce'] = joinedData['isAce'] | joinedData['isUnret']\n",
    "joinedData = joinedData.drop(columns=['isUnret', 'isAce'])"
   ]
  },
  {
   "cell_type": "code",
   "execution_count": 7,
   "metadata": {},
   "outputs": [],
   "source": [
    "tennis_players = ['Daniil Medvedev', 'Alexander Zverev', 'Roger Federer', 'Dominic Thiem', 'Nick Kyrgios', 'Novak Djokovic', 'Rafael Nadal', 'Stefanos Tsitsipas', 'Casper Ruud', 'Grigor Dimitrov']\n",
    "tennis_players_initials = [''.join([x[0].upper() for x in fullname.split(' ')]) for fullname in tennis_players]\n",
    "joinedData = joinedData.loc[((joinedData['Player 1'].isin(tennis_players)) | (joinedData['Player 2'].isin(tennis_players)))]\n",
    "joinedData = joinedData.loc[joinedData['Serving'].isin(tennis_players_initials)]"
   ]
  },
  {
   "cell_type": "code",
   "execution_count": 8,
   "metadata": {},
   "outputs": [],
   "source": [
    "joinedData[['Pts1', 'Pts2']] = joinedData['Pts'].str.split('-', expand=True)\n",
    "joinedData = joinedData.drop('Pts', axis='columns')"
   ]
  },
  {
   "cell_type": "markdown",
   "metadata": {},
   "source": [
    "Separate the columns into new columns that are specific for Server and Returner."
   ]
  },
  {
   "cell_type": "code",
   "execution_count": 9,
   "metadata": {},
   "outputs": [],
   "source": [
    "server_names = []\n",
    "returner_names = []\n",
    "pointsServer = []\n",
    "pointsReturner = []\n",
    "gamesServer = []\n",
    "gamesReturner = []\n",
    "setsServer = []\n",
    "setsReturner = []\n",
    "handReturner = []\n",
    "for index, row in joinedData.iterrows():\n",
    "    if ''.join([x[0].upper() for x in row['Player 1'].split(' ')]) == row['Serving']:\n",
    "      server_names.append(row['Player 1'])\n",
    "      returner_names.append(row['Player 2'])\n",
    "      pointsServer.append(row['Pts1'])\n",
    "      pointsReturner.append(row['Pts2'])\n",
    "      gamesServer.append(row['Gm1'])\n",
    "      gamesReturner.append(row['Gm2'])\n",
    "      setsServer.append(row['Set1'])\n",
    "      setsReturner.append(row['Set2'])\n",
    "      handReturner.append(row['Pl 2 hand'])\n",
    "    elif ''.join([x[0].upper() for x in row['Player 2'].split(' ')]) == row['Serving']:\n",
    "      server_names.append(row['Player 2'])\n",
    "      returner_names.append(row['Player 1'])\n",
    "      pointsServer.append(row['Pts2'])\n",
    "      pointsReturner.append(row['Pts1'])\n",
    "      gamesServer.append(row['Gm2'])\n",
    "      gamesReturner.append(row['Gm1'])\n",
    "      setsServer.append(row['Set2'])\n",
    "      setsReturner.append(row['Set1'])\n",
    "      handReturner.append(row['Pl 1 hand'])\n",
    "\n",
    "joinedData['FullNameServer'] = server_names\n",
    "joinedData['FullNameReturner'] = returner_names\n",
    "joinedData['PointsServer'] = pointsServer\n",
    "joinedData['PointsReturner'] = pointsReturner\n",
    "joinedData['GamesServer'] = gamesServer\n",
    "joinedData['GamesReturner'] = gamesReturner\n",
    "joinedData['SetsServer'] = setsServer\n",
    "joinedData['SetsReturner'] = setsReturner\n",
    "joinedData['HandReturner'] = handReturner\n",
    "\n",
    "joinedData = joinedData.drop(columns=['Player 1', 'Player 2', 'Pts1', 'Pts2', 'Gm1', 'Gm2', 'Set1', 'Set2', 'Pl 1 hand', 'Pl 2 hand', 'Serving', 'FullNameReturner'])"
   ]
  },
  {
   "cell_type": "markdown",
   "metadata": {},
   "source": [
    "Combine the serves into one column with a list of 1 or 2 serves so that it can be exploded into several rows later"
   ]
  },
  {
   "cell_type": "code",
   "execution_count": 10,
   "metadata": {},
   "outputs": [],
   "source": [
    "joinedData['Serves'] = joinedData.apply(lambda x: list(['f' + str(x['1st']),\n",
    "                                                        's' + str(x['2nd'])]), axis=1)   "
   ]
  },
  {
   "cell_type": "markdown",
   "metadata": {},
   "source": [
    "Explode list of first and second serve into separate rows"
   ]
  },
  {
   "cell_type": "code",
   "execution_count": 11,
   "metadata": {},
   "outputs": [],
   "source": [
    "joinedData = joinedData.explode('Serves', ignore_index=True)"
   ]
  },
  {
   "cell_type": "markdown",
   "metadata": {},
   "source": [
    "Add new column indicating whether the serve was first or second"
   ]
  },
  {
   "cell_type": "code",
   "execution_count": 12,
   "metadata": {},
   "outputs": [],
   "source": [
    "joinedData['IsFirstServe'] = joinedData['Serves'].str[0] == 'f'"
   ]
  },
  {
   "cell_type": "markdown",
   "metadata": {},
   "source": [
    "Remove 'f' and 's' (first and second serve) that were indicators before the explosion"
   ]
  },
  {
   "cell_type": "code",
   "execution_count": 13,
   "metadata": {},
   "outputs": [],
   "source": [
    "joinedData['Serves'] = joinedData['Serves'].str[1:]\n",
    "joinedData = joinedData[(joinedData['Serves'] != 'nan') & (joinedData['Serves'] != '')]\n",
    "joinedData = joinedData.drop(columns=['1st', '2nd'])"
   ]
  },
  {
   "cell_type": "markdown",
   "metadata": {},
   "source": [
    "Remove lets"
   ]
  },
  {
   "cell_type": "code",
   "execution_count": 14,
   "metadata": {},
   "outputs": [],
   "source": [
    "joinedData['Serves'] = joinedData['Serves'].map(lambda x: x.lstrip('c'))"
   ]
  },
  {
   "cell_type": "code",
   "execution_count": 15,
   "metadata": {},
   "outputs": [
    {
     "data": {
      "text/plain": [
       "FullNameServer\n",
       "Roger Federer         12724\n",
       "Novak Djokovic        12549\n",
       "Daniil Medvedev       12427\n",
       "Stefanos Tsitsipas    10837\n",
       "Rafael Nadal          10717\n",
       "Dominic Thiem         10051\n",
       "Alexander Zverev       8100\n",
       "Nick Kyrgios           7470\n",
       "Casper Ruud            5300\n",
       "Grigor Dimitrov        5101\n",
       "Name: count, dtype: int64"
      ]
     },
     "execution_count": 15,
     "metadata": {},
     "output_type": "execute_result"
    }
   ],
   "source": [
    "joinedData['FullNameServer'].value_counts()"
   ]
  },
  {
   "cell_type": "markdown",
   "metadata": {},
   "source": [
    "Extract direction of serve"
   ]
  },
  {
   "cell_type": "code",
   "execution_count": 16,
   "metadata": {},
   "outputs": [],
   "source": [
    "def extract_serve_direction(row):\n",
    "  serves_directions_dict = {\n",
    "      '4': 'Out wide',\n",
    "      '5': 'Body',\n",
    "      '6': 'Down the T'\n",
    "  }\n",
    "\n",
    "  if len(row['Serves']) > 1 and row['Serves'][1] in ['x', 'd', 'w', 'n', 'g', '!', 'e']:\n",
    "      return \"Fault\"\n",
    "  else:\n",
    "      return serves_directions_dict.get(row['Serves'][0], 'Body')\n",
    "\n",
    "joinedData['Direction'] = joinedData.apply(extract_serve_direction, axis=1)\n",
    "joinedData = joinedData.drop(columns='Serves')"
   ]
  },
  {
   "cell_type": "markdown",
   "metadata": {},
   "source": [
    "### Mark Faults as lost points with 0 rally length because otherwise the data has a vision on the future on the second serve."
   ]
  },
  {
   "cell_type": "code",
   "execution_count": 17,
   "metadata": {},
   "outputs": [],
   "source": [
    "joinedData.loc[joinedData['Direction'] == 'Fault', 'rallyCount'] = 0\n",
    "joinedData.loc[joinedData['Direction'] == 'Fault', 'isSvrWinner'] = 0"
   ]
  },
  {
   "cell_type": "markdown",
   "metadata": {},
   "source": [
    "### Fill arrays with previous serves information"
   ]
  },
  {
   "cell_type": "code",
   "execution_count": 18,
   "metadata": {},
   "outputs": [],
   "source": [
    "def look_previous_serves(group):\n",
    "    window = 5\n",
    "    result = pd.DataFrame({\n",
    "        'previous_directions': np.lib.stride_tricks.sliding_window_view(group['Direction'], window).tolist(),\n",
    "        'previous_points_server_wins': np.lib.stride_tricks.sliding_window_view(group['isSvrWinner'], window).tolist(),\n",
    "        'previous_rallies_lengths': np.lib.stride_tricks.sliding_window_view(group['rallyCount'], window).tolist(),\n",
    "        'previous_serves_is_first': np.lib.stride_tricks.sliding_window_view(group['IsFirstServe'], window).tolist()\n",
    "    })\n",
    "\n",
    "    result = result[:-1]\n",
    "    result.index = group.index[5:]\n",
    "    \n",
    "    group = group.join(result)\n",
    "    \n",
    "    return group\n",
    "\n",
    "newDf = joinedData.groupby(by=['match_id', 'FullNameServer']).apply(look_previous_serves)"
   ]
  },
  {
   "cell_type": "markdown",
   "metadata": {},
   "source": [
    "### Remove Faults"
   ]
  },
  {
   "cell_type": "code",
   "execution_count": 19,
   "metadata": {},
   "outputs": [],
   "source": [
    "# joinedData = joinedData[joinedData['Direction'] != 'Fault']"
   ]
  },
  {
   "cell_type": "markdown",
   "metadata": {},
   "source": [
    "### Remove columns that were used only for previous serves"
   ]
  },
  {
   "cell_type": "code",
   "execution_count": 20,
   "metadata": {},
   "outputs": [],
   "source": [
    "newDf = newDf.drop(columns=['isSvrWinner', 'rallyCount', 'match_id'])"
   ]
  },
  {
   "cell_type": "code",
   "execution_count": 21,
   "metadata": {},
   "outputs": [],
   "source": [
    "joinedData.to_csv('../data/wrangled-data.csv')\n",
    "newDf.to_csv('../data/wrangled-data-with-previous-serves.csv', index=False)"
   ]
  }
 ],
 "metadata": {
  "kernelspec": {
   "display_name": "tennis-ai",
   "language": "python",
   "name": "python3"
  },
  "language_info": {
   "codemirror_mode": {
    "name": "ipython",
    "version": 3
   },
   "file_extension": ".py",
   "mimetype": "text/x-python",
   "name": "python",
   "nbconvert_exporter": "python",
   "pygments_lexer": "ipython3",
   "version": "3.11.7"
  }
 },
 "nbformat": 4,
 "nbformat_minor": 2
}
