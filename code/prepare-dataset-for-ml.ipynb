{
 "cells": [
  {
   "cell_type": "code",
   "execution_count": 40,
   "metadata": {},
   "outputs": [],
   "source": [
    "import pandas as pd\n",
    "import seaborn as sns\n",
    "\n",
    "from ast import literal_eval"
   ]
  },
  {
   "cell_type": "code",
   "execution_count": 41,
   "metadata": {},
   "outputs": [],
   "source": [
    "df = pd.read_csv(\n",
    "    \"../data/wrangled-data-with-previous-serves.csv\",\n",
    "    converters={\n",
    "        \"previous_directions\": literal_eval,\n",
    "        \"previous_points_server_wins\": literal_eval,\n",
    "        \"previous_rallies_lengths\": literal_eval,\n",
    "        \"previous_serves_is_first\": literal_eval\n",
    "    }\n",
    ")"
   ]
  },
  {
   "cell_type": "code",
   "execution_count": 42,
   "metadata": {},
   "outputs": [],
   "source": [
    "df = pd.concat([df, pd.DataFrame(df['previous_directions'].values.tolist()).add_prefix('previous_directions')], axis=1)\n",
    "df = pd.concat([df, pd.DataFrame(df['previous_points_server_wins'].values.tolist()).add_prefix('previous_point_server_wins')], axis=1)\n",
    "df = pd.concat([df, pd.DataFrame(df['previous_rallies_lengths'].values.tolist()).add_prefix('previous_rally_length')], axis=1)\n",
    "df = pd.concat([df, pd.DataFrame(df['previous_serves_is_first'].values.tolist()).add_prefix('previous_serve_is_first')], axis=1)"
   ]
  },
  {
   "cell_type": "code",
   "execution_count": 43,
   "metadata": {},
   "outputs": [],
   "source": [
    "df = df.drop(columns=['previous_directions', 'previous_points_server_wins', 'previous_rallies_lengths', 'previous_serves_is_first'])\n",
    "\n",
    "df.to_csv('../data/exploded-serves.csv')"
   ]
  }
 ],
 "metadata": {
  "kernelspec": {
   "display_name": "tennis-ai",
   "language": "python",
   "name": "python3"
  },
  "language_info": {
   "codemirror_mode": {
    "name": "ipython",
    "version": 3
   },
   "file_extension": ".py",
   "mimetype": "text/x-python",
   "name": "python",
   "nbconvert_exporter": "python",
   "pygments_lexer": "ipython3",
   "version": "3.11.7"
  }
 },
 "nbformat": 4,
 "nbformat_minor": 2
}
